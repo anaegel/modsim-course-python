{
 "cells": [
  {
   "cell_type": "markdown",
   "metadata": {},
   "source": [
    "[<img src=\"../../header.svg\">](../index.ipynb)\n",
    "\n",
    "---\n",
    "# Lösen der Poisson-Gleichung mit FEM in UG4 \n",
    "\n",
    "Wir lösen in diesem Beispiel \n",
    "$$-\\triangle u = f $$\n",
    "auf dem Einheitsquadrat mit Dirichlet-Randwerten. \n",
    "\n",
    "Dazu verwenden wir hier einen entprechenden Jupyter-Kernel für die Software UG4, der LUA unterstützt. Eine Erweiterung folgt im [nachfolgenden Beispiel](./tutorial-fem-02.ipynb).\n",
    "\n",
    "## Initialisierung "
   ]
  },
  {
   "cell_type": "code",
   "execution_count": 58,
   "metadata": {},
   "outputs": [],
   "source": [
    "import sys\n",
    "sys.path.append(\"../skin/\")\n",
    "import modsimtools as util\n"
   ]
  },
  {
   "cell_type": "markdown",
   "metadata": {},
   "source": [
    "## Problemdefinition\n",
    "\n",
    "Zur Problemdefinition definieren wir einige Variablen:"
   ]
  },
  {
   "cell_type": "code",
   "execution_count": 59,
   "metadata": {},
   "outputs": [],
   "source": [
    "myGridName= \"grids/unit_square_tri.ugx\" # grids/unit_square_tri.ugx\",\n",
    "myNumRefs= 3\n",
    "mySubsets = {\"Inner\", \"Boundary\"}"
   ]
  },
  {
   "cell_type": "markdown",
   "metadata": {},
   "source": [
    "Randbedingungen setzen wir über einen Callback:"
   ]
  },
  {
   "cell_type": "code",
   "execution_count": 60,
   "metadata": {},
   "outputs": [],
   "source": [
    "\n",
    "# Callback fuer Randbedingungen\n",
    "def myDirichletBndCallback(x, y, t) :\n",
    "    if (y==1) :\n",
    "        return true, 0.0 \n",
    "    elif (y==0) :  \n",
    "        return true, math.sin(math.pi*1*x)\n",
    "    else : \n",
    "        return false, 0.0 \n",
    "    "
   ]
  },
  {
   "cell_type": "markdown",
   "metadata": {},
   "source": [
    "## Rechengebiet\n",
    "\n",
    "Einlesen aus einer Datei ganz bequem in einer Zeile:"
   ]
  },
  {
   "cell_type": "code",
   "execution_count": 61,
   "metadata": {},
   "outputs": [
    {
     "name": "stdout",
     "output_type": "stream",
     "text": [
      "Loading Domain {gridName}...\n",
      "Domain loaded.\n",
      "Refining ...\n",
      "Refining step {i} ...\n",
      "Refining step {i} ...\n",
      "Refining step {i} ...\n",
      "Refining done\n"
     ]
    }
   ],
   "source": [
    "dom = util.CreateDomain(myGridName, myNumRefs, mySubsets)"
   ]
  },
  {
   "cell_type": "markdown",
   "metadata": {},
   "source": [
    "## Ansatzraum\n",
    "Erzeuge Ansatzraum mit stückweise linearen Funktionen (elementweise Polynome 1. Grades):"
   ]
  },
  {
   "cell_type": "code",
   "execution_count": 62,
   "metadata": {},
   "outputs": [
    {
     "name": "stdout",
     "output_type": "stream",
     "text": [
      "Approximation space:\n",
      "| ---------------------------------------------------------------------------- |\n",
      "|  Number of DoFs (All Procs)                                                  |\n",
      "|  Algebra: Block 1 (divide by 1 for #Index)                                   |\n",
      "|                                                                              |\n",
      "|    GridLevel   |       Domain |     0: Inner |  1: Boundary                  |\n",
      "| ---------------------------------------------------------------------------- |\n",
      "| (lev,    0)    |            9 |            1 |            8 |\n",
      "| (lev,    1)    |           25 |            9 |           16 |\n",
      "| (lev,    2)    |           81 |           49 |           32 |\n",
      "| (lev,    3)    |          289 |          225 |           64 |\n",
      "| (lev,    0, g) |            9 |            1 |            8 |\n",
      "| (lev,    1, g) |           25 |            9 |           16 |\n",
      "| (lev,    2, g) |           81 |           49 |           32 |\n",
      "| (lev,    3, g) |          289 |          225 |           64 |\n",
      "| (surf, top)    |          289 |          225 |           64 |\n",
      "| ---------------------------------------------------------------------------- |\n",
      "| For Legend and Options: print_statistic(\"legend\").                           |\n",
      "| ---------------------------------------------------------------------------- |\n"
     ]
    }
   ],
   "source": [
    "approxSpaceDesc = dict(fct = \"u\", type = \"Lagrange\", order = 1)\n",
    "approxSpace = util.CreateApproximationSpace(dom, approxSpaceDesc)"
   ]
  },
  {
   "cell_type": "markdown",
   "metadata": {},
   "source": [
    "## Diskretisierung\n",
    "\n",
    "Erzeuge Objekt für eine **Elementdiskretisierung** für die Konvektions-Diffusionsgleichung."
   ]
  },
  {
   "cell_type": "code",
   "execution_count": 70,
   "metadata": {},
   "outputs": [],
   "source": [
    "elemDisc = cd.ConvectionDiffusionFE2d(\"u\", \"Inner\")\n",
    "elemDisc.set_diffusion(1.0)\n",
    "\n",
    "# Optional: Setze rechte Seite f\n",
    "elemDisc.set_source(1.0)"
   ]
  },
  {
   "cell_type": "markdown",
   "metadata": {},
   "source": [
    "Erzeuge Objekt für **Randbedingungen**:"
   ]
  },
  {
   "cell_type": "code",
   "execution_count": 72,
   "metadata": {},
   "outputs": [],
   "source": [
    "dirichletBND = ug4.DirichletBoundary2dCPU1()\n",
    "# dirichletBND.add(myDirichletBndCallback, \"u\", \"Boundary\")\n",
    "dirichletBND.add(0.0, \"u\", \"Boundary\")"
   ]
  },
  {
   "cell_type": "markdown",
   "metadata": {},
   "source": [
    "Füge beides zu einer **Gebietsdiskretisierung** hinzu:"
   ]
  },
  {
   "cell_type": "code",
   "execution_count": 73,
   "metadata": {},
   "outputs": [],
   "source": [
    "domainDisc = ug4.DomainDiscretization2dCPU1(approxSpace)\n",
    "domainDisc.add(elemDisc)\n",
    "domainDisc.add(dirichletBND)"
   ]
  },
  {
   "cell_type": "markdown",
   "metadata": {},
   "source": [
    "## Konfiguration eines iterativen Lösers\n",
    "\n",
    "Ein sog. Mehrgitterverfahren (=> Modellierung und Simulation 2) hat lediglich lineare Komplexität"
   ]
  },
  {
   "cell_type": "code",
   "execution_count": 74,
   "metadata": {},
   "outputs": [
    {
     "ename": "SyntaxError",
     "evalue": "invalid syntax. Maybe you meant '==' or ':=' instead of '='? (58224527.py, line 3)",
     "output_type": "error",
     "traceback": [
      "\u001b[0;36m  Cell \u001b[0;32mIn[74], line 3\u001b[0;36m\u001b[0m\n\u001b[0;31m    type = \"bicgstab\",\u001b[0m\n\u001b[0m    ^\u001b[0m\n\u001b[0;31mSyntaxError\u001b[0m\u001b[0;31m:\u001b[0m invalid syntax. Maybe you meant '==' or ':=' instead of '='?\n"
     ]
    }
   ],
   "source": [
    "# MG solver setup (using 'util/solver_util.lua')\n",
    "solverDesc = {\n",
    "    type = \"bicgstab\",\n",
    "    precond = {\n",
    "        type = \"gmg\",\n",
    "        approxSpace = approxSpace,\n",
    "        smoother = \"sgs\",\n",
    "        baseSolver = \"lu\"\n",
    "    }\n",
    "}\n",
    "solver = util.solver.CreateSolver(solverDesc)"
   ]
  },
  {
   "cell_type": "code",
   "execution_count": 75,
   "metadata": {},
   "outputs": [],
   "source": [
    "import pysuperlu as slu\n",
    "solver=slu.SuperLUCPU1()"
   ]
  },
  {
   "cell_type": "markdown",
   "metadata": {},
   "source": [
    "## Assembliere und löse LGS"
   ]
  },
  {
   "cell_type": "code",
   "execution_count": 76,
   "metadata": {},
   "outputs": [
    {
     "data": {
      "text/plain": [
       "True"
      ]
     },
     "execution_count": 76,
     "metadata": {},
     "output_type": "execute_result"
    }
   ],
   "source": [
    "A = ug4.AssembledLinearOperatorCPU1(domainDisc)\n",
    "x = ug4.GridFunction2dCPU1(approxSpace)\n",
    "b = ug4.GridFunction2dCPU1(approxSpace)\n",
    "\n",
    "# x.clear(0.0)\n",
    "\n",
    "domainDisc.assemble_linear(A, b)\n",
    "domainDisc.adjust_solution(x)\n",
    "\n",
    "solver.init(A, x)\n",
    "solver.apply(x, b)"
   ]
  },
  {
   "cell_type": "markdown",
   "metadata": {},
   "source": [
    "### Ausgabe als *.vtu bzw. *.vec-Datei\n",
    "\n",
    "Wir visualisieren Daten mit pyvista bzw. dem ConnectionViewer:"
   ]
  },
  {
   "cell_type": "code",
   "execution_count": 77,
   "metadata": {},
   "outputs": [],
   "source": [
    "import pyvista\n",
    "pyvista.start_xvfb()\n",
    "pyvista.set_jupyter_backend('trame')"
   ]
  },
  {
   "cell_type": "markdown",
   "metadata": {},
   "source": [
    "a) Für die Lösung"
   ]
  },
  {
   "cell_type": "code",
   "execution_count": 78,
   "metadata": {},
   "outputs": [
    {
     "data": {
      "application/vnd.jupyter.widget-view+json": {
       "model_id": "737c021847964a9cbea38f6718d24dbc",
       "version_major": 2,
       "version_minor": 0
      },
      "text/plain": [
       "Widget(value=\"<iframe src='http://localhost:56144/index.html?ui=P_0x1651a32d0_3&reconnect=auto' style='width: …"
      ]
     },
     "metadata": {},
     "output_type": "display_data"
    }
   ],
   "source": [
    "solFileName = \"fem01_solution_u\"\n",
    "ug4.WriteGridFunctionToVTK(x, solFileName)\n",
    "ug4.SaveVectorForConnectionViewer(x, solFileName + \".vec\")\n",
    "\n",
    "result = pyvista.read(\"fem01_solution_u.vtu\")\n",
    "result.plot(scalars=\"u\", show_edges=True, cmap='jet')"
   ]
  },
  {
   "cell_type": "markdown",
   "metadata": {},
   "source": [
    "b) Für die rechte Seite $b$ und Matrix $A$"
   ]
  },
  {
   "cell_type": "code",
   "execution_count": 79,
   "metadata": {},
   "outputs": [],
   "source": [
    "solFileName = \"fem01_rhs_b\"\n",
    "ug4.WriteGridFunctionToVTK(b, solFileName)\n",
    "ug4.SaveVectorForConnectionViewer(b, solFileName + \".vec\")\n",
    "ug4.SaveMatrixForConnectionViewer(x, A, \"fem01_matrix_A.mat\")"
   ]
  },
  {
   "cell_type": "code",
   "execution_count": 80,
   "metadata": {},
   "outputs": [
    {
     "data": {
      "application/vnd.jupyter.widget-view+json": {
       "model_id": "fa5fdcf53d9542388510e14818a8eb2b",
       "version_major": 2,
       "version_minor": 0
      },
      "text/plain": [
       "Widget(value=\"<iframe src='http://localhost:56144/index.html?ui=P_0x2ad659d90_4&reconnect=auto' style='width: …"
      ]
     },
     "metadata": {},
     "output_type": "display_data"
    }
   ],
   "source": [
    "result = pyvista.read(\"fem01_rhs_b.vtu\")\n",
    "result.plot(scalars=\"u\", show_edges=True, cmap='jet')"
   ]
  },
  {
   "cell_type": "code",
   "execution_count": null,
   "metadata": {},
   "outputs": [],
   "source": []
  }
 ],
 "metadata": {
  "kernelspec": {
   "display_name": "Python 3 (ipykernel)",
   "language": "python",
   "name": "python3"
  },
  "language_info": {
   "codemirror_mode": {
    "name": "ipython",
    "version": 3
   },
   "file_extension": ".py",
   "mimetype": "text/x-python",
   "name": "python",
   "nbconvert_exporter": "python",
   "pygments_lexer": "ipython3",
   "version": "3.11.4"
  }
 },
 "nbformat": 4,
 "nbformat_minor": 2
}
