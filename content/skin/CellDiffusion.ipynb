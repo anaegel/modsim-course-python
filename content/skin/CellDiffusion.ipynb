{
 "cells": [
  {
   "cell_type": "markdown",
   "metadata": {},
   "source": [
    "[<img src=\"../header.svg\">](../index.ipynb)\n",
    "\n",
    "---"
   ]
  },
  {
   "cell_type": "markdown",
   "metadata": {},
   "source": [
    "# Simulation of Drug Transport across a Virtual Skin Membrane"
   ]
  },
  {
   "cell_type": "markdown",
   "metadata": {},
   "source": [
    "### Initialize UG4 (for 2D and standard algebra)"
   ]
  },
  {
   "cell_type": "code",
   "execution_count": 9,
   "metadata": {},
   "outputs": [
    {
     "data": {
      "text/plain": []
     },
     "execution_count": 9,
     "metadata": {},
     "output_type": "execute_result"
    }
   ],
   "source": [
    "InitUG(2, AlgebraType(\"CPU\", 1));\n",
    "ug_load_script(\"ug_util.lua\")\n",
    "ug_load_script(\"util/refinement_util.lua\")"
   ]
  },
  {
   "cell_type": "markdown",
   "metadata": {},
   "source": [
    "### Create Domain"
   ]
  },
  {
   "cell_type": "code",
   "execution_count": 48,
   "metadata": {},
   "outputs": [
    {
     "data": {
      "text/plain": []
     },
     "execution_count": 48,
     "metadata": {},
     "output_type": "execute_result"
    }
   ],
   "source": [
    "requiredSubsets = {\"FREE\", \"BARRIER\", \"NUCLEUS\", \"MEMBRANE\"}\n",
    "gridName = \"simple-cell.ugx\"\n",
    "numRefs = 2"
   ]
  },
  {
   "cell_type": "code",
   "execution_count": 37,
   "metadata": {},
   "outputs": [
    {
     "data": {
      "text/plain": [
       "Loading Domain simple-cell.ugx ... done.\n",
       "Performing integrity check on domain ... done.\n",
       "Refining(3): 1 2 3 done.\n"
      ]
     },
     "execution_count": 37,
     "metadata": {},
     "output_type": "execute_result"
    }
   ],
   "source": [
    "dom = util.CreateDomain(gridName, numRefs, requiredSubsets)"
   ]
  },
  {
   "cell_type": "markdown",
   "metadata": {},
   "source": [
    "### Create Approximation space"
   ]
  },
  {
   "cell_type": "code",
   "execution_count": 38,
   "metadata": {},
   "outputs": [
    {
     "data": {
      "text/plain": []
     },
     "execution_count": 38,
     "metadata": {},
     "output_type": "execute_result"
    }
   ],
   "source": [
    "approxSpaceDesc = { fct = \"c\", type = \"Lagrange\", order = 1 }"
   ]
  },
  {
   "cell_type": "code",
   "execution_count": 39,
   "metadata": {},
   "outputs": [
    {
     "data": {
      "text/plain": [
       "Approximation space:\n",
       "| ----------------------------------------------------------------------------------------- |\n",
       "|  Number of DoFs (All Procs)                                                               |\n",
       "|  Algebra: Block 1 (divide by 1 for #Index)                                                |\n",
       "|                                                                                           |\n",
       "|    GridLevel   |       Domain |      0: FREE |   1: BARRIER |   2: NUCLEUS |  3: MEMBRANE |\n",
       "| ----------------------------------------------------------------------------------------- |\n",
       "| (lev,    0)    |          216 |            9 |          153 |            6 |           48 |\n",
       "| (lev,    1)    |          810 |          252 |          450 |           12 |           96 |\n",
       "| (lev,    2)    |         3132 |         1431 |         1485 |           24 |          192 |\n",
       "| (lev,    3)    |        12312 |         6561 |         5319 |           48 |          384 |\n",
       "| (lev,    0, g) |          216 |            9 |          153 |            6 |           48 |\n",
       "| (lev,    1, g) |          810 |          252 |          450 |           12 |           96 |\n",
       "| (lev,    2, g) |         3132 |         1431 |         1485 |           24 |          192 |\n",
       "| (lev,    3, g) |        12312 |         6561 |         5319 |           48 |          384 |\n",
       "| (surf, top)    |        12312 |         6561 |         5319 |           48 |          384 |\n",
       "| ----------------------------------------------------------------------------------------- |\n",
       "| For Legend and Options: print_statistic(\"legend\").                                        |\n",
       "| ----------------------------------------------------------------------------------------- |\n"
      ]
     },
     "execution_count": 39,
     "metadata": {},
     "output_type": "execute_result"
    }
   ],
   "source": [
    "approxSpace = ApproximationSpace(dom)\n",
    "approxSpace:add_fct(approxSpaceDesc.fct, approxSpaceDesc.type, approxSpaceDesc.order)\n",
    "approxSpace:init_levels()\n",
    "approxSpace:init_top_surface()\n",
    "print(\"Approximation space:\")\n",
    "approxSpace:print_statistic()"
   ]
  },
  {
   "cell_type": "markdown",
   "metadata": {},
   "source": [
    "## Create a convection-diffusion-equation\n",
    "$$\\frac{\\partial Ku}{\\partial t} + \\nabla \\cdot [-DK \\nabla u] = 0$$\n",
    "Model parameter"
   ]
  },
  {
   "cell_type": "code",
   "execution_count": 40,
   "metadata": {},
   "outputs": [
    {
     "data": {
      "text/plain": []
     },
     "execution_count": 40,
     "metadata": {},
     "output_type": "execute_result"
    }
   ],
   "source": [
    "K={\n",
    "    [\"FREE\"] = 1.0, [\"BARRIER\"] = 1.0,\n",
    "}\n",
    "\n",
    "D={\n",
    "     [\"FREE\"] = 1, [\"BARRIER\"] = 0.001, \n",
    "}\n"
   ]
  },
  {
   "cell_type": "code",
   "execution_count": 41,
   "metadata": {},
   "outputs": [
    {
     "data": {
      "text/plain": []
     },
     "execution_count": 41,
     "metadata": {},
     "output_type": "execute_result"
    }
   ],
   "source": [
    "elemDisc ={}\n",
    "\n",
    "elemDisc[\"BARRIER\"] = ConvectionDiffusion(\"c\", \"BARRIER\", \"fv1\")\n",
    "elemDisc[\"BARRIER\"]:set_diffusion(K[\"BARRIER\"]*D[\"BARRIER\"])\n",
    "elemDisc[\"BARRIER\"]:set_mass_scale(K[\"BARRIER\"])\n",
    "\n",
    "elemDisc[\"FREE\"] = ConvectionDiffusion(\"c\", \"FREE\", \"fv1\")\n",
    "elemDisc[\"FREE\"]:set_diffusion(K[\"FREE\"]*D[\"FREE\"])\n",
    "elemDisc[\"FREE\"]:set_mass_scale(K[\"FREE\"])"
   ]
  },
  {
   "cell_type": "code",
   "execution_count": 42,
   "metadata": {},
   "outputs": [
    {
     "data": {
      "text/plain": []
     },
     "execution_count": 42,
     "metadata": {},
     "output_type": "execute_result"
    }
   ],
   "source": [
    "dirichletBnd = DirichletBoundary()\n",
    "dirichletBnd:add(1.0, \"c\", \"NUCLEUS\")\n",
    "dirichletBnd:add(0.0, \"c\", \"MEMBRANE\")"
   ]
  },
  {
   "cell_type": "code",
   "execution_count": 43,
   "metadata": {},
   "outputs": [
    {
     "data": {
      "text/plain": []
     },
     "execution_count": 43,
     "metadata": {},
     "output_type": "execute_result"
    }
   ],
   "source": [
    "domainDisc = DomainDiscretization(approxSpace)\n",
    "domainDisc:add(elemDisc[\"FREE\"])\n",
    "domainDisc:add(elemDisc[\"BARRIER\"])\n",
    "domainDisc:add(dirichletBnd)"
   ]
  },
  {
   "cell_type": "markdown",
   "metadata": {},
   "source": [
    "## Create  solver"
   ]
  },
  {
   "cell_type": "code",
   "execution_count": 44,
   "metadata": {},
   "outputs": [
    {
     "data": {
      "text/plain": []
     },
     "execution_count": 44,
     "metadata": {},
     "output_type": "execute_result"
    }
   ],
   "source": [
    "solver=LU()"
   ]
  },
  {
   "cell_type": "markdown",
   "metadata": {},
   "source": [
    "## Solve steady-state problem"
   ]
  },
  {
   "cell_type": "code",
   "execution_count": 45,
   "metadata": {},
   "outputs": [
    {
     "data": {
      "text/plain": [
       "\n",
       "ILUT: please use 'set_ordering_algorithm(..)' in the future\n",
       "\n",
       "Using ILUT(0) on 12312 x 12312 matrix...\n",
       "[-------------------------25%----------------------50%----------------------75%----------------------] took 12.709 s.\n"
      ]
     },
     "execution_count": 45,
     "metadata": {},
     "output_type": "execute_result"
    }
   ],
   "source": [
    "A = AssembledLinearOperator(domainDisc)\n",
    "x = GridFunction(approxSpace)\n",
    "b = GridFunction(approxSpace)\n",
    "x:set(0.0)\n",
    "\n",
    "\n",
    "domainDisc:assemble_linear(A, b)\n",
    "domainDisc:adjust_solution(x)\n",
    "\n",
    "solver:init(A, x)\n",
    "solver:apply(x, b)"
   ]
  },
  {
   "cell_type": "code",
   "execution_count": 46,
   "metadata": {},
   "outputs": [
    {
     "data": {
      "text/plain": []
     },
     "execution_count": 46,
     "metadata": {},
     "output_type": "execute_result"
    }
   ],
   "source": [
    "WriteGridFunctionToVTK(x, \"SimpleCellRef\"..numRefs..\".vtu\")"
   ]
  },
  {
   "cell_type": "code",
   "execution_count": 47,
   "metadata": {},
   "outputs": [
    {
     "data": {
      "text/plain": [
       "0.083582095669179\n"
      ]
     },
     "execution_count": 47,
     "metadata": {},
     "output_type": "execute_result"
    }
   ],
   "source": [
    "flux = IntegrateNormalGradientOnManifold(x, \"c\", \"MEMBRANE\", \"FREE\")\n",
    "print(flux)"
   ]
  },
  {
   "cell_type": "code",
   "execution_count": null,
   "metadata": {},
   "outputs": [],
   "source": []
  },
  {
   "cell_type": "code",
   "execution_count": null,
   "metadata": {},
   "outputs": [],
   "source": []
  },
  {
   "cell_type": "code",
   "execution_count": null,
   "metadata": {},
   "outputs": [],
   "source": []
  },
  {
   "cell_type": "code",
   "execution_count": null,
   "metadata": {},
   "outputs": [],
   "source": []
  },
  {
   "cell_type": "code",
   "execution_count": null,
   "metadata": {},
   "outputs": [],
   "source": []
  }
 ],
 "metadata": {
  "kernelspec": {
   "display_name": "Python 3 (ipykernel)",
   "language": "python",
   "name": "python3"
  },
  "language_info": {
   "codemirror_mode": {
    "name": "ipython",
    "version": 3
   },
   "file_extension": ".py",
   "mimetype": "text/x-python",
   "name": "python",
   "nbconvert_exporter": "python",
   "pygments_lexer": "ipython3",
   "version": "3.10.11"
  }
 },
 "nbformat": 4,
 "nbformat_minor": 2
}
