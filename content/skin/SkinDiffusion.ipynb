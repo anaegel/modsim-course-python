{
 "cells": [
  {
   "cell_type": "markdown",
   "metadata": {},
   "source": [
    "[<img src=\"../../header.svg\">](../index.ipynb)\n",
    "\n",
    "---"
   ]
  },
  {
   "cell_type": "markdown",
   "metadata": {},
   "source": [
    "# Application: Simulation of Drug Transport across a Virtual Skin Membrane\n",
    "\n",
    "[Advanced version](SkinDiffusionWithLagtime.ipybnd)"
   ]
  },
  {
   "cell_type": "markdown",
   "metadata": {},
   "source": [
    "### Preliminaries"
   ]
  },
  {
   "cell_type": "code",
   "execution_count": 22,
   "metadata": {},
   "outputs": [],
   "source": [
    "import modsimtools\n",
    "from modsimtools import *"
   ]
  },
  {
   "cell_type": "code",
   "execution_count": null,
   "metadata": {},
   "outputs": [],
   "source": [
    "%%writefile modsimtools.py\n",
    "\n",
    "import os\n",
    "env_ug4_root = os.environ['UG4_ROOT']\n",
    "import sys\n",
    "sys.path.append(env_ug4_root+'/lib/')\n",
    "sys.path.append(env_ug4_root+'/bin/plugins/ug4py')"
   ]
  },
  {
   "cell_type": "markdown",
   "metadata": {},
   "source": [
    "## Solve problem"
   ]
  },
  {
   "cell_type": "code",
   "execution_count": null,
   "metadata": {},
   "outputs": [],
   "source": [
    "%%writefile -a modsimtools.py\n",
    "\n",
    "import ug4py as ug4\n",
    "import pylimex as limex\n",
    "import pyconvectiondiffusion as cd\n",
    "import pysuperlu as slu"
   ]
  },
  {
   "cell_type": "code",
   "execution_count": 23,
   "metadata": {},
   "outputs": [],
   "source": [
    "# Setup: Defining requires subsets, grid and number of refinements\n",
    "requiredSubsets = [\"LIP\", \"COR\", \"BOTTOM_SC\", \"TOP_SC\"] # defining subsets\n",
    "gridName = 'skin2d-aniso.ugx'  # Grid created with ProMesh\n",
    "numRefs = 2  # Number of Refinement steps on given grid"
   ]
  },
  {
   "cell_type": "code",
   "execution_count": null,
   "metadata": {},
   "outputs": [],
   "source": [
    "%%writefile -a modsimtools.py\n",
    "\n",
    "def CreateDomain(gridName, numRefs, requiredSubsets):\n",
    "    # Choosing a domain object\n",
    "    # (either 1d, 2d or 3d suffix)\n",
    "    dom = ug4.Domain2d()\n",
    "\n",
    "    # Loading the given grid into the domain\n",
    "    print(\"Loading Domain {gridName}...\")\n",
    "    ug4.LoadDomain(dom, gridName)\n",
    "    print(\"Domain loaded.\")\n",
    "    \n",
    "    \n",
    "    # Optional: Refining the grid\n",
    "    if numRefs > 0:\n",
    "        print(\"Refining ...\")\n",
    "        refiner = ug4.GlobalDomainRefiner(dom)\n",
    "        for i in range(numRefs):\n",
    "            ug4.TerminateAbortedRun()\n",
    "            refiner.refine()\n",
    "            print(\"Refining step {i} ...\")\n",
    "\n",
    "        print(\"Refining done\")\n",
    "\n",
    "    # checking if geometry has the needed subsets of the probelm\n",
    "    sh = dom.subset_handler()\n",
    "    for e in requiredSubsets:\n",
    "        if sh.get_subset_index(e) == -1:\n",
    "            print(f\"Domain does not contain subset {e}.\")\n",
    "            sys.exit(1)\n",
    "    \n",
    "    return dom"
   ]
  },
  {
   "cell_type": "code",
   "execution_count": 24,
   "metadata": {},
   "outputs": [
    {
     "name": "stdout",
     "output_type": "stream",
     "text": [
      "Loading Domain {gridName}...\n",
      "Domain loaded.\n",
      "Refining ...\n",
      "Refining step {i} ...\n",
      "Refining step {i} ...\n",
      "Refining done\n"
     ]
    }
   ],
   "source": [
    "#from modsimtools import CreateDomain\n",
    "dom = CreateDomain(gridName, numRefs, requiredSubsets)"
   ]
  },
  {
   "cell_type": "markdown",
   "metadata": {},
   "source": [
    "### Create Approximation space"
   ]
  },
  {
   "cell_type": "code",
   "execution_count": 25,
   "metadata": {},
   "outputs": [],
   "source": [
    "# Create approximation space which describes the unknowns in the equation\n",
    "approxSpaceDesc = dict(fct = \"u\", type = \"Lagrange\", order = 1)"
   ]
  },
  {
   "cell_type": "code",
   "execution_count": null,
   "metadata": {},
   "outputs": [],
   "source": [
    "%%writefile -a modsimtools.py\n",
    "\n",
    "def CreateApproximationSpace(dom, approxSpaceDesc):\n",
    "    approxSpace = ug4.ApproximationSpace2d(dom)\n",
    "    approxSpace.add_fct(approxSpaceDesc[\"fct\"], approxSpaceDesc[\"type\"], approxSpaceDesc[\"order\"])\n",
    "    approxSpace.init_levels()\n",
    "    approxSpace.init_top_surface()\n",
    "    print(\"Approximation space:\")\n",
    "    approxSpace.print_statistic()\n",
    "    return approxSpace"
   ]
  },
  {
   "cell_type": "code",
   "execution_count": 26,
   "metadata": {},
   "outputs": [
    {
     "name": "stdout",
     "output_type": "stream",
     "text": [
      "Approximation space:\n",
      "| ----------------------------------------------------------------------------------------- |\n",
      "|  Number of DoFs (All Procs)                                                               |\n",
      "|  Algebra: Block 1 (divide by 1 for #Index)                                                |\n",
      "|                                                                                           |\n",
      "|    GridLevel   |       Domain |       0: LIP |       1: COR | 2: BOTTOM_SC |    3: TOP_SC |\n",
      "| ----------------------------------------------------------------------------------------- |\n",
      "| (lev,    0)    |          680 |           32 |          608 |           20 |           20 |\n",
      "| (lev,    1)    |         2613 |          783 |         1752 |           39 |           39 |\n",
      "| (lev,    2)    |        10241 |         4367 |         5720 |           77 |           77 |\n",
      "| (lev,    0, g) |          680 |           32 |          608 |           20 |           20 |\n",
      "| (lev,    1, g) |         2613 |          783 |         1752 |           39 |           39 |\n",
      "| (lev,    2, g) |        10241 |         4367 |         5720 |           77 |           77 |\n",
      "| (surf, top)    |        10241 |         4367 |         5720 |           77 |           77 |\n",
      "| ----------------------------------------------------------------------------------------- |\n",
      "| For Legend and Options: print_statistic(\"legend\").                                        |\n",
      "| ----------------------------------------------------------------------------------------- |\n"
     ]
    }
   ],
   "source": [
    "approxSpace = CreateApproximationSpace(dom, approxSpaceDesc)"
   ]
  },
  {
   "cell_type": "markdown",
   "metadata": {},
   "source": [
    "## Create a convection-diffusion-equation\n",
    "$$\\frac{\\partial Ku}{\\partial t} + \\nabla \\cdot [-DK \\nabla u] = 0$$\n",
    "Partition coefficients"
   ]
  },
  {
   "cell_type": "code",
   "execution_count": 27,
   "metadata": {},
   "outputs": [],
   "source": [
    "K={}\n",
    "K[\"COR\"]=1e-3\n",
    "K[\"LIP\"]=1.0"
   ]
  },
  {
   "cell_type": "markdown",
   "metadata": {},
   "source": [
    "Diffusion coefficients"
   ]
  },
  {
   "cell_type": "code",
   "execution_count": 28,
   "metadata": {},
   "outputs": [],
   "source": [
    "D={}\n",
    "D[\"COR\"]=1.0\n",
    "D[\"LIP\"]=1.0"
   ]
  },
  {
   "cell_type": "markdown",
   "metadata": {},
   "source": [
    "Creating two instances of a convection diffusion equation"
   ]
  },
  {
   "cell_type": "code",
   "execution_count": null,
   "metadata": {},
   "outputs": [],
   "source": [
    "%%writefile -a modsimtools.py\n",
    "\n",
    "def CreateDiffusionElemDisc(fname, subdom, mass_scale, diffusion, reaction):\n",
    "    elemDisc = cd.ConvectionDiffusionFV12d(fname, subdom)\n",
    "    elemDisc.set_mass_scale(mass_scale)\n",
    "    elemDisc.set_diffusion(diffusion)\n",
    "    elemDisc.set_reaction(reaction)\n",
    "    return elemDisc"
   ]
  },
  {
   "cell_type": "code",
   "execution_count": 29,
   "metadata": {},
   "outputs": [],
   "source": [
    "elemDisc={}\n",
    "elemDisc[\"COR\"] = CreateDiffusionElemDisc(\"u\", \"COR\", K[\"COR\"], K[\"COR\"]*D[\"COR\"], 0.0)\n",
    "elemDisc[\"LIP\"] = CreateDiffusionElemDisc(\"u\", \"LIP\", K[\"LIP\"], K[\"LIP\"]*D[\"LIP\"], 0.0)"
   ]
  },
  {
   "cell_type": "markdown",
   "metadata": {},
   "source": [
    "### Boundary conditions\n",
    "ug4 separates the boundary value and the discretization\n",
    "boundary conditions can be enforced through a post-process (dirichlet).\n",
    "To init at boundary, the value, function name from the Approximationspace\n",
    "#and the subset name are needed"
   ]
  },
  {
   "cell_type": "code",
   "execution_count": 30,
   "metadata": {},
   "outputs": [],
   "source": [
    "dirichletBND = ug4.DirichletBoundary2dCPU1()\n",
    "dirichletBND.add(1.0, \"u\", \"TOP_SC\")\n",
    "dirichletBND.add(0.0, \"u\", \"BOTTOM_SC\")"
   ]
  },
  {
   "cell_type": "markdown",
   "metadata": {},
   "source": [
    "### Global discretization\n",
    "Create the discretization object which combines all the separate discretizations into one domain discretization."
   ]
  },
  {
   "cell_type": "code",
   "execution_count": 31,
   "metadata": {},
   "outputs": [],
   "source": [
    "domainDisc = ug4.DomainDiscretization2dCPU1(approxSpace)\n",
    "domainDisc.add(elemDisc[\"COR\"])\n",
    "domainDisc.add(elemDisc[\"LIP\"])\n",
    "domainDisc.add(dirichletBND)"
   ]
  },
  {
   "cell_type": "markdown",
   "metadata": {},
   "source": [
    "## Create  solver"
   ]
  },
  {
   "cell_type": "code",
   "execution_count": 32,
   "metadata": {},
   "outputs": [],
   "source": [
    "lsolver=ug4.LUCPU1()"
   ]
  },
  {
   "cell_type": "code",
   "execution_count": 33,
   "metadata": {},
   "outputs": [],
   "source": [
    "import pysuperlu as slu\n",
    "lsolver=slu.SuperLUCPU1()"
   ]
  },
  {
   "cell_type": "markdown",
   "metadata": {},
   "source": [
    "## Solve transient problem\n",
    "\n",
    "Solve the transient problem.\n",
    "Use the Approximationspace to create a vector of unknowns and a vector which contains the right hand side"
   ]
  },
  {
   "cell_type": "code",
   "execution_count": 34,
   "metadata": {
    "scrolled": true
   },
   "outputs": [],
   "source": [
    "# Define start time, end time and step size\n",
    "startTime = 0.0\n",
    "endTime = 1000.0\n",
    "dt = 25.0"
   ]
  },
  {
   "cell_type": "markdown",
   "metadata": {},
   "source": [
    "Create a time discretization (with the theta-scheme).\n",
    "Requires domain and theta ($\\theta$ = 1.0 -> implicit Euler, \n",
    "$\\theta$ = 0.0 -> explicit Euler )\n"
   ]
  },
  {
   "cell_type": "code",
   "execution_count": 35,
   "metadata": {},
   "outputs": [],
   "source": [
    "timeDisc=ug4.ThetaTimeStepCPU1(domainDisc, 1.0) "
   ]
  },
  {
   "cell_type": "markdown",
   "metadata": {},
   "source": [
    "Create time integrator (requires solver and step size)."
   ]
  },
  {
   "cell_type": "code",
   "execution_count": 36,
   "metadata": {},
   "outputs": [],
   "source": [
    "#timeInt = limex.LinearTimeIntegrator2dCPU1(timeDisc)\n",
    "timeInt = limex.ConstStepLinearTimeIntegrator2dCPU1(timeDisc)\n",
    "timeInt.set_linear_solver(lsolver)\n",
    "timeInt.set_time_step(dt)"
   ]
  },
  {
   "cell_type": "markdown",
   "metadata": {},
   "source": [
    "Solving the transient problem"
   ]
  },
  {
   "cell_type": "code",
   "execution_count": 37,
   "metadata": {},
   "outputs": [],
   "source": [
    "# Create grid function for solution.\n",
    "usol = ug4.GridFunction2dCPU1(approxSpace)\n",
    "\n",
    "# Init the vector representing the unknowns with 0 to obtain\n",
    "# reproducable results\n",
    "ug4.Interpolate(0.0, usol, \"u\")\n",
    "\n",
    "# Exporting the result to a vtu-file\n",
    "# can be visualized in paraview or with a python extension\n",
    "ug4.WriteGridFunctionToVTK(usol, \"vtk/SkinDiffusion_Initial\")"
   ]
  },
  {
   "cell_type": "code",
   "execution_count": 38,
   "metadata": {},
   "outputs": [
    {
     "name": "stdout",
     "output_type": "stream",
     "text": [
      "+++ Integrating: [\t0\t, \t1000\t] with dt=\t25(40 iters)\n",
      "+++ Const timestep +++1(t=0, dt=25)\n",
      "+++ Assemble (t=0, dt=25)\n",
      "after COLAMD_MAIN info 1\n",
      "+++ Const timestep +++2(t=25, dt=25)\n",
      "+++ Const timestep +++3(t=50, dt=25)\n",
      "+++ Const timestep +++4(t=75, dt=25)\n",
      "+++ Const timestep +++5(t=100, dt=25)\n",
      "+++ Const timestep +++6(t=125, dt=25)\n",
      "+++ Const timestep +++7(t=150, dt=25)\n",
      "+++ Const timestep +++8(t=175, dt=25)\n",
      "+++ Const timestep +++9(t=200, dt=25)\n",
      "+++ Const timestep +++10(t=225, dt=25)\n",
      "+++ Const timestep +++11(t=250, dt=25)\n",
      "+++ Const timestep +++12(t=275, dt=25)\n",
      "+++ Const timestep +++13(t=300, dt=25)\n",
      "+++ Const timestep +++14(t=325, dt=25)\n",
      "+++ Const timestep +++15(t=350, dt=25)\n",
      "+++ Const timestep +++16(t=375, dt=25)\n",
      "+++ Const timestep +++17(t=400, dt=25)\n",
      "+++ Const timestep +++18(t=425, dt=25)\n",
      "+++ Const timestep +++19(t=450, dt=25)\n",
      "+++ Const timestep +++20(t=475, dt=25)\n",
      "+++ Const timestep +++21(t=500, dt=25)\n",
      "+++ Const timestep +++22(t=525, dt=25)\n",
      "+++ Const timestep +++23(t=550, dt=25)\n",
      "+++ Const timestep +++24(t=575, dt=25)\n",
      "+++ Const timestep +++25(t=600, dt=25)\n",
      "+++ Const timestep +++26(t=625, dt=25)\n",
      "+++ Const timestep +++27(t=650, dt=25)\n",
      "+++ Const timestep +++28(t=675, dt=25)\n",
      "+++ Const timestep +++29(t=700, dt=25)\n",
      "+++ Const timestep +++30(t=725, dt=25)\n",
      "+++ Const timestep +++31(t=750, dt=25)\n",
      "+++ Const timestep +++32(t=775, dt=25)\n",
      "+++ Const timestep +++33(t=800, dt=25)\n",
      "+++ Const timestep +++34(t=825, dt=25)\n",
      "+++ Const timestep +++35(t=850, dt=25)\n",
      "+++ Const timestep +++36(t=875, dt=25)\n",
      "+++ Const timestep +++37(t=900, dt=25)\n",
      "+++ Const timestep +++38(t=925, dt=25)\n",
      "+++ Const timestep +++39(t=950, dt=25)\n",
      "+++ Const timestep +++40(t=975, dt=25)\n"
     ]
    }
   ],
   "source": [
    "try:\n",
    "    timeInt.apply(usol, endTime, usol, startTime)\n",
    "except Exception as inst:\n",
    "    print(inst)"
   ]
  },
  {
   "cell_type": "code",
   "execution_count": 39,
   "metadata": {},
   "outputs": [],
   "source": [
    "ug4.WriteGridFunctionToVTK(usol, \"vtk/SkinDiffusion_Final\")"
   ]
  },
  {
   "cell_type": "markdown",
   "metadata": {},
   "source": [
    "## Plotting the result using pyvista"
   ]
  },
  {
   "cell_type": "code",
   "execution_count": 21,
   "metadata": {
    "scrolled": true
   },
   "outputs": [
    {
     "name": "stdout",
     "output_type": "stream",
     "text": [
      "Pyvista input: \n"
     ]
    },
    {
     "data": {
      "application/vnd.jupyter.widget-view+json": {
       "model_id": "aa66a5eb2e39452a80f187273615d864",
       "version_major": 2,
       "version_minor": 0
      },
      "text/plain": [
       "Widget(value=\"<iframe src='http://localhost:60366/index.html?ui=P_0x176969b90_1&reconnect=auto' style='width: …"
      ]
     },
     "metadata": {},
     "output_type": "display_data"
    }
   ],
   "source": [
    "import pyvista\n",
    "pyvista.start_xvfb()\n",
    "result = pyvista.read('vtk/SkinDiffusion_Final.vtu')\n",
    "\n",
    "#pyvista.set_jupyter_backend('pythreejs')\n",
    "pyvista.set_jupyter_backend('trame')\n",
    "\n",
    "print(\"Pyvista input: \")\n",
    "result.plot(scalars=\"u\", show_edges=True, cmap='jet')"
   ]
  },
  {
   "cell_type": "code",
   "execution_count": null,
   "metadata": {},
   "outputs": [],
   "source": []
  },
  {
   "cell_type": "code",
   "execution_count": null,
   "metadata": {},
   "outputs": [],
   "source": []
  },
  {
   "cell_type": "code",
   "execution_count": null,
   "metadata": {},
   "outputs": [],
   "source": []
  },
  {
   "cell_type": "code",
   "execution_count": null,
   "metadata": {},
   "outputs": [],
   "source": []
  },
  {
   "cell_type": "code",
   "execution_count": null,
   "metadata": {},
   "outputs": [],
   "source": []
  }
 ],
 "metadata": {
  "kernelspec": {
   "display_name": "Python 3 (ipykernel)",
   "language": "python",
   "name": "python3"
  },
  "language_info": {
   "codemirror_mode": {
    "name": "ipython",
    "version": 3
   },
   "file_extension": ".py",
   "mimetype": "text/x-python",
   "name": "python",
   "nbconvert_exporter": "python",
   "pygments_lexer": "ipython3",
   "version": "3.11.3"
  }
 },
 "nbformat": 4,
 "nbformat_minor": 2
}
