{
 "cells": [
  {
   "attachments": {},
   "cell_type": "markdown",
   "metadata": {},
   "source": [
    "[<img src=\"../header.svg\">](../index.ipynb)\n",
    "\n",
    "---"
   ]
  },
  {
   "attachments": {},
   "cell_type": "markdown",
   "metadata": {},
   "source": [
    "# Application: Simulation of Drug Transport across a Virtual Skin Membrane"
   ]
  },
  {
   "attachments": {},
   "cell_type": "markdown",
   "metadata": {},
   "source": [
    "### Preliminaries"
   ]
  },
  {
   "cell_type": "code",
   "execution_count": 1,
   "metadata": {},
   "outputs": [
    {
     "name": "stdout",
     "output_type": "stream",
     "text": [
      "['/Users/anaegel/Software/ug4-git/apps/modsim-course-python/content/skin', '/opt/homebrew/Cellar/python@3.11/3.11.3/Frameworks/Python.framework/Versions/3.11/lib/python311.zip', '/opt/homebrew/Cellar/python@3.11/3.11.3/Frameworks/Python.framework/Versions/3.11/lib/python3.11', '/opt/homebrew/Cellar/python@3.11/3.11.3/Frameworks/Python.framework/Versions/3.11/lib/python3.11/lib-dynload', '', '/opt/homebrew/lib/python3.11/site-packages', '/opt/homebrew/Cellar/pygments/2.14.0/libexec/lib/python3.11/site-packages', '/Users/anaegel/Software/ug4-git/lib/', '/Users/anaegel/Software/ug4-git/bin/plugins/ug4py']\n"
     ]
    }
   ],
   "source": [
    "import modsimtools\n",
    "from modsimtools import *"
   ]
  },
  {
   "cell_type": "code",
   "execution_count": null,
   "metadata": {},
   "outputs": [],
   "source": [
    "%%writefile modsimtools.py\n",
    "\n",
    "import os\n",
    "env_ug4_root = os.environ['UG4_ROOT']\n",
    "import sys\n",
    "sys.path.append(env_ug4_root+'/lib/')\n",
    "sys.path.append(env_ug4_root+'/bin/plugins/ug4py')"
   ]
  },
  {
   "attachments": {},
   "cell_type": "markdown",
   "metadata": {},
   "source": [
    "### Create some widgets"
   ]
  },
  {
   "cell_type": "code",
   "execution_count": 2,
   "metadata": {},
   "outputs": [
    {
     "data": {
      "application/vnd.jupyter.widget-view+json": {
       "model_id": "7ee0bcaa4a1845bb9913d66562369298",
       "version_major": 2,
       "version_minor": 0
      },
      "text/plain": [
       "Select(description='Geometry:', options=('skin2d-aniso.ugx', 'skin2d-aniso2.ugx', 'skin2d-aniso3.ugx'), rows=1…"
      ]
     },
     "metadata": {},
     "output_type": "display_data"
    },
    {
     "data": {
      "application/vnd.jupyter.widget-view+json": {
       "model_id": "c65f70540d88431f88875c7eaf694ccb",
       "version_major": 2,
       "version_minor": 0
      },
      "text/plain": [
       "BoundedIntText(value=2, description='Refinements:', max=5)"
      ]
     },
     "metadata": {},
     "output_type": "display_data"
    }
   ],
   "source": [
    "import ipywidgets as widgets\n",
    "from ipywidgets import interact, interactive, fixed, interact_manual\n",
    "from IPython.display import display\n",
    "\n",
    "s = widgets.Select(\n",
    "    options=['skin2d-aniso.ugx', 'skin2d-aniso2.ugx', 'skin2d-aniso3.ugx'],\n",
    "    value='skin2d-aniso.ugx', rows=1,\n",
    "    description='Geometry:', disabled=False)\n",
    "\n",
    "r = widgets.BoundedIntText(\n",
    "    value=2, min=0, max=5,\n",
    "    step=1, description='Refinements:',\n",
    "    disabled=False)\n",
    "\n",
    "display(s)\n",
    "display(r)"
   ]
  },
  {
   "attachments": {},
   "cell_type": "markdown",
   "metadata": {},
   "source": [
    "## Solve problem"
   ]
  },
  {
   "cell_type": "code",
   "execution_count": null,
   "metadata": {},
   "outputs": [],
   "source": [
    "%%writefile -a modsimtools.py\n",
    "\n",
    "import ug4py as ug4\n",
    "import pylimex as limex\n",
    "import pyconvectiondiffusion as cd\n",
    "import pysuperlu as slu"
   ]
  },
  {
   "cell_type": "code",
   "execution_count": 3,
   "metadata": {},
   "outputs": [],
   "source": [
    "# Setup:\n",
    "# defining needed subsets, gird and number of refinements\n",
    "requiredSubsets = [\"LIP\", \"COR\", \"BOTTOM_SC\", \"TOP_SC\"] # defining subsets\n",
    "gridName = 'skin2d-aniso.ugx'  # Grid created with ProMesh\n",
    "numRefs = 1  # Number of Refinement steps on given grid"
   ]
  },
  {
   "cell_type": "code",
   "execution_count": null,
   "metadata": {},
   "outputs": [],
   "source": [
    "%%writefile -a modsimtools.py\n",
    "\n",
    "def CreateDomain(gridName, numRefs, requiredSubsets):\n",
    "    # Choosing a domain object\n",
    "    # (either 1d, 2d or 3d suffix)\n",
    "    dom = ug4.Domain2d()\n",
    "\n",
    "    # Loading the given grid into the domain\n",
    "    print(\"Loading Domain {gridName}...\")\n",
    "    ug4.LoadDomain(dom, gridName)\n",
    "    print(\"Domain loaded.\")\n",
    "    \n",
    "    \n",
    "    # Optional: Refining the grid\n",
    "    if numRefs > 0:\n",
    "        print(\"Refining ...\")\n",
    "        refiner = ug4.GlobalDomainRefiner(dom)\n",
    "        for i in range(numRefs):\n",
    "            ug4.TerminateAbortedRun()\n",
    "            refiner.refine()\n",
    "            print(\"Refining step {i} ...\")\n",
    "\n",
    "        print(\"Refining done\")\n",
    "\n",
    "    # checking if geometry has the needed subsets of the probelm\n",
    "    sh = dom.subset_handler()\n",
    "    for e in requiredSubsets:\n",
    "        if sh.get_subset_index(e) == -1:\n",
    "            print(f\"Domain does not contain subset {e}.\")\n",
    "            sys.exit(1)\n",
    "    \n",
    "    return dom"
   ]
  },
  {
   "cell_type": "code",
   "execution_count": 4,
   "metadata": {},
   "outputs": [
    {
     "name": "stdout",
     "output_type": "stream",
     "text": [
      "Loading Domain {gridName}...\n",
      "Domain loaded.\n",
      "Refining ...\n",
      "Refining step {i} ...\n",
      "Refining done\n"
     ]
    }
   ],
   "source": [
    "#from modsimtools import CreateDomain\n",
    "dom = CreateDomain(gridName, numRefs, requiredSubsets)"
   ]
  },
  {
   "attachments": {},
   "cell_type": "markdown",
   "metadata": {},
   "source": [
    "### Create Approximation space"
   ]
  },
  {
   "cell_type": "code",
   "execution_count": 5,
   "metadata": {},
   "outputs": [],
   "source": [
    "# Create approximation space which describes the unknowns in the equation\n",
    "approxSpaceDesc = dict(fct = \"u\", type = \"Lagrange\", order = 1)"
   ]
  },
  {
   "cell_type": "code",
   "execution_count": null,
   "metadata": {},
   "outputs": [],
   "source": [
    "%%writefile -a modsimtools.py\n",
    "\n",
    "def CreateApproximationSpace(dom, approxSpaceDesc):\n",
    "    approxSpace = ug4.ApproximationSpace2d(dom)\n",
    "    approxSpace.add_fct(approxSpaceDesc[\"fct\"], approxSpaceDesc[\"type\"], approxSpaceDesc[\"order\"])\n",
    "    approxSpace.init_levels()\n",
    "    approxSpace.init_top_surface()\n",
    "    print(\"Approximation space:\")\n",
    "    approxSpace.print_statistic()\n",
    "    return approxSpace"
   ]
  },
  {
   "cell_type": "code",
   "execution_count": 6,
   "metadata": {},
   "outputs": [
    {
     "name": "stdout",
     "output_type": "stream",
     "text": [
      "Approximation space:\n",
      "| ----------------------------------------------------------------------------------------- |\n",
      "|  Number of DoFs (All Procs)                                                               |\n",
      "|  Algebra: Block 1 (divide by 1 for #Index)                                                |\n",
      "|                                                                                           |\n",
      "|    GridLevel   |       Domain |       0: LIP |       1: COR | 2: BOTTOM_SC |    3: TOP_SC |\n",
      "| ----------------------------------------------------------------------------------------- |\n",
      "| (lev,    0)    |          680 |           32 |          608 |           20 |           20 |\n",
      "| (lev,    1)    |         2613 |          783 |         1752 |           39 |           39 |\n",
      "| (lev,    0, g) |          680 |           32 |          608 |           20 |           20 |\n",
      "| (lev,    1, g) |         2613 |          783 |         1752 |           39 |           39 |\n",
      "| (surf, top)    |         2613 |          783 |         1752 |           39 |           39 |\n",
      "| ----------------------------------------------------------------------------------------- |\n",
      "| For Legend and Options: print_statistic(\"legend\").                                        |\n",
      "| ----------------------------------------------------------------------------------------- |\n"
     ]
    }
   ],
   "source": [
    "approxSpace = CreateApproximationSpace(dom, approxSpaceDesc)"
   ]
  },
  {
   "attachments": {},
   "cell_type": "markdown",
   "metadata": {},
   "source": [
    "## Create a convection-diffusion-equation\n",
    "$$\\frac{\\partial Ku}{\\partial t} + \\nabla \\cdot [-DK \\nabla u] = 0$$\n",
    "Partition coefficients"
   ]
  },
  {
   "cell_type": "code",
   "execution_count": 7,
   "metadata": {},
   "outputs": [],
   "source": [
    "K={}\n",
    "K[\"COR\"]=1e-3\n",
    "K[\"LIP\"]=1.0"
   ]
  },
  {
   "attachments": {},
   "cell_type": "markdown",
   "metadata": {},
   "source": [
    "Diffusion coefficients"
   ]
  },
  {
   "cell_type": "code",
   "execution_count": 8,
   "metadata": {},
   "outputs": [],
   "source": [
    "D={}\n",
    "D[\"COR\"]=1.0\n",
    "D[\"LIP\"]=1.0"
   ]
  },
  {
   "attachments": {},
   "cell_type": "markdown",
   "metadata": {},
   "source": [
    "Creating two instances of a convection diffusion equation"
   ]
  },
  {
   "cell_type": "code",
   "execution_count": null,
   "metadata": {},
   "outputs": [],
   "source": [
    "%%writefile -a modsimtools.py\n",
    "\n",
    "def CreateDiffusionElemDisc(fname, subdom, mass_scale, diffusion, reaction):\n",
    "    elemDisc = cd.ConvectionDiffusionFV12d(fname, subdom)\n",
    "    elemDisc.set_mass_scale(mass_scale)\n",
    "    elemDisc.set_diffusion(diffusion)\n",
    "    elemDisc.set_reaction(reaction)\n",
    "    return elemDisc"
   ]
  },
  {
   "cell_type": "code",
   "execution_count": 9,
   "metadata": {},
   "outputs": [],
   "source": [
    "elemDisc={}\n",
    "elemDisc[\"COR\"] = CreateDiffusionElemDisc(\"u\", \"COR\", K[\"COR\"], K[\"COR\"]*D[\"COR\"], 0.0)\n",
    "elemDisc[\"LIP\"] = CreateDiffusionElemDisc(\"u\", \"LIP\", K[\"LIP\"], K[\"LIP\"]*D[\"LIP\"], 0.0)"
   ]
  },
  {
   "attachments": {},
   "cell_type": "markdown",
   "metadata": {},
   "source": [
    "### Boundary conditions\n",
    "ug4 separates the boundary value and the discretization\n",
    "boundary conditions can be enforced through a post-process (dirichlet).\n",
    "To init at boundary, the value, function name from the Approximationspace\n",
    "#and the subset name are needed"
   ]
  },
  {
   "cell_type": "code",
   "execution_count": 10,
   "metadata": {},
   "outputs": [],
   "source": [
    "dirichletBND = ug4.DirichletBoundary2dCPU1()\n",
    "dirichletBND.add(1.0, \"u\", \"TOP_SC\")\n",
    "dirichletBND.add(0.0, \"u\", \"BOTTOM_SC\")"
   ]
  },
  {
   "attachments": {},
   "cell_type": "markdown",
   "metadata": {},
   "source": [
    "### Global discretization\n",
    "Create the discretization object which combines all the separate discretizations into one domain discretization."
   ]
  },
  {
   "cell_type": "code",
   "execution_count": 11,
   "metadata": {},
   "outputs": [],
   "source": [
    "domainDisc = ug4.DomainDiscretization2dCPU1(approxSpace)\n",
    "domainDisc.add(elemDisc[\"COR\"])\n",
    "domainDisc.add(elemDisc[\"LIP\"])\n",
    "domainDisc.add(dirichletBND)"
   ]
  },
  {
   "attachments": {},
   "cell_type": "markdown",
   "metadata": {},
   "source": [
    "## Create  solver"
   ]
  },
  {
   "cell_type": "code",
   "execution_count": 12,
   "metadata": {},
   "outputs": [],
   "source": [
    "lsolver=ug4.LUCPU1()"
   ]
  },
  {
   "cell_type": "code",
   "execution_count": 13,
   "metadata": {},
   "outputs": [],
   "source": [
    "import pysuperlu as slu\n",
    "lsolver=slu.SuperLUCPU1()"
   ]
  },
  {
   "attachments": {},
   "cell_type": "markdown",
   "metadata": {},
   "source": [
    "## Solve transient problem\n",
    "\n",
    "Solve the transient problem.\n",
    "Use the Approximationspace to create a vector of unknowns and a vector which contains the right hand side"
   ]
  },
  {
   "cell_type": "code",
   "execution_count": 14,
   "metadata": {
    "scrolled": true
   },
   "outputs": [],
   "source": [
    "# Define start time, end time and step size\n",
    "startTime = 0.0\n",
    "endTime = 1000.0\n",
    "dt = 25.0"
   ]
  },
  {
   "attachments": {},
   "cell_type": "markdown",
   "metadata": {},
   "source": [
    "Create a time discretization (with the theta-scheme).\n",
    "Requires domain and theta ($\\theta$ = 1.0 -> implicit Euler, \n",
    "$\\theta$ = 0.0 -> explicit Euler )\n"
   ]
  },
  {
   "cell_type": "code",
   "execution_count": 15,
   "metadata": {},
   "outputs": [],
   "source": [
    "timeDisc=ug4.ThetaTimeStepCPU1(domainDisc, 1.0) "
   ]
  },
  {
   "attachments": {},
   "cell_type": "markdown",
   "metadata": {},
   "source": [
    "Create time integrator (requires solver and step size)."
   ]
  },
  {
   "cell_type": "code",
   "execution_count": 21,
   "metadata": {},
   "outputs": [],
   "source": [
    "#timeInt = limex.LinearTimeIntegrator2dCPU1(timeDisc)\n",
    "timeInt = limex.ConstStepLinearTimeIntegrator2dCPU1(timeDisc)\n",
    "timeInt.set_linear_solver(lsolver)\n",
    "timeInt.set_time_step(dt)"
   ]
  },
  {
   "attachments": {},
   "cell_type": "markdown",
   "metadata": {},
   "source": [
    "Create and attach an observer object for vtk output:"
   ]
  },
  {
   "cell_type": "code",
   "execution_count": 22,
   "metadata": {},
   "outputs": [],
   "source": [
    "# vtk=ug4.VTKOutput2d()\n",
    "# obs=limex.VTKOutputObserver2dCPU1(\"SkinData.vtu\", vtk)\n",
    "# timeInt.attach_observer(obs)\n",
    "\n",
    "# Exporting the result to a vtu-file\n",
    "# can be visualized in paraview or with a python extension\n",
    "# We add a corresponding observer to the time integrator.\n",
    "def MyCallback(usol, step, time, dt) :\n",
    "    # print(step)\n",
    "    # print(time)\n",
    "    # print(dt)\n",
    "    ug4.WriteGridFunctionToVTK(usol, \"SkinDiffusion_\"+str(int(step)).zfill(5)+\".vtu\")\n",
    "obs =ug4.PythonCallbackObserver2dCPU1(MyCallback) \n",
    "\n",
    "timeInt.attach_observer(obs)"
   ]
  },
  {
   "attachments": {},
   "cell_type": "markdown",
   "metadata": {},
   "source": [
    "Solving the transient problem"
   ]
  },
  {
   "cell_type": "code",
   "execution_count": 23,
   "metadata": {},
   "outputs": [],
   "source": [
    "usol = ug4.GridFunction2dCPU1(approxSpace)\n",
    "\n",
    "# Init the vector representing the unknowns with 0 to obtain\n",
    "# reproducable results\n",
    "ug4.Interpolate(0.0, usol, \"u\")\n",
    "\n",
    "# Exporting the result to a vtu-file\n",
    "# can be visualized in paraview or with a python extension\n",
    "ug4.WriteGridFunctionToVTK(usol, \"SkinData_t0000\")"
   ]
  },
  {
   "cell_type": "code",
   "execution_count": 24,
   "metadata": {},
   "outputs": [
    {
     "name": "stdout",
     "output_type": "stream",
     "text": [
      "+++ Integrating: [\t0\t, \t1000\t] with dt=\t25(40 iters)\n",
      "+++ Const timestep +++1(t=0, dt=25)\n",
      "+++ Assemble (t=0, dt=25)\n",
      "after COLAMD_MAIN info 1\n",
      "+++ Const timestep +++2(t=25, dt=25)\n",
      "+++ Const timestep +++3(t=50, dt=25)\n",
      "+++ Const timestep +++4(t=75, dt=25)\n",
      "+++ Const timestep +++5(t=100, dt=25)\n",
      "+++ Const timestep +++6(t=125, dt=25)\n",
      "+++ Const timestep +++7(t=150, dt=25)\n",
      "+++ Const timestep +++8(t=175, dt=25)\n",
      "+++ Const timestep +++9(t=200, dt=25)\n",
      "+++ Const timestep +++10(t=225, dt=25)\n",
      "+++ Const timestep +++11(t=250, dt=25)\n",
      "+++ Const timestep +++12(t=275, dt=25)\n",
      "+++ Const timestep +++13(t=300, dt=25)\n",
      "+++ Const timestep +++14(t=325, dt=25)\n",
      "+++ Const timestep +++15(t=350, dt=25)\n",
      "+++ Const timestep +++16(t=375, dt=25)\n",
      "+++ Const timestep +++17(t=400, dt=25)\n",
      "+++ Const timestep +++18(t=425, dt=25)\n",
      "+++ Const timestep +++19(t=450, dt=25)\n",
      "+++ Const timestep +++20(t=475, dt=25)\n",
      "+++ Const timestep +++21(t=500, dt=25)\n",
      "+++ Const timestep +++22(t=525, dt=25)\n",
      "+++ Const timestep +++23(t=550, dt=25)\n",
      "+++ Const timestep +++24(t=575, dt=25)\n",
      "+++ Const timestep +++25(t=600, dt=25)\n",
      "+++ Const timestep +++26(t=625, dt=25)\n",
      "+++ Const timestep +++27(t=650, dt=25)\n",
      "+++ Const timestep +++28(t=675, dt=25)\n",
      "+++ Const timestep +++29(t=700, dt=25)\n",
      "+++ Const timestep +++30(t=725, dt=25)\n",
      "+++ Const timestep +++31(t=750, dt=25)\n",
      "+++ Const timestep +++32(t=775, dt=25)\n",
      "+++ Const timestep +++33(t=800, dt=25)\n",
      "+++ Const timestep +++34(t=825, dt=25)\n",
      "+++ Const timestep +++35(t=850, dt=25)\n",
      "+++ Const timestep +++36(t=875, dt=25)\n",
      "+++ Const timestep +++37(t=900, dt=25)\n",
      "+++ Const timestep +++38(t=925, dt=25)\n",
      "+++ Const timestep +++39(t=950, dt=25)\n",
      "+++ Const timestep +++40(t=975, dt=25)\n"
     ]
    }
   ],
   "source": [
    "try:\n",
    "    timeInt.apply(usol, endTime, usol, startTime)\n",
    "except Exception as inst:\n",
    "    print(inst)"
   ]
  },
  {
   "attachments": {},
   "cell_type": "markdown",
   "metadata": {},
   "source": [
    "## Plotting the result using pyvista"
   ]
  },
  {
   "cell_type": "code",
   "execution_count": 25,
   "metadata": {
    "scrolled": true
   },
   "outputs": [
    {
     "name": "stdout",
     "output_type": "stream",
     "text": [
      "Pyvista input: \n",
      "UnstructuredGrid (0x105e41600)\n",
      "  N Cells:    2508\n",
      "  N Points:   2613\n",
      "  X Bounds:   0.000e+00, 3.010e+01\n",
      "  Y Bounds:   0.000e+00, 1.760e+01\n",
      "  Z Bounds:   0.000e+00, 0.000e+00\n",
      "  N Arrays:   1\n",
      "\n"
     ]
    },
    {
     "data": {
      "application/vnd.jupyter.widget-view+json": {
       "model_id": "2320eecdf9eb497ea747e1a2804d30cf",
       "version_major": 2,
       "version_minor": 0
      },
      "text/plain": [
       "Widget(value=\"<iframe src='http://localhost:58967/index.html?ui=P_0x173ab7c10_1&reconnect=auto' style='width: …"
      ]
     },
     "metadata": {},
     "output_type": "display_data"
    }
   ],
   "source": [
    "import pyvista\n",
    "pyvista.start_xvfb()\n",
    "result = pyvista.read('SkinDiffusion_00040.vtu')\n",
    "\n",
    "#pyvista.set_jupyter_backend('pythreejs')\n",
    "pyvista.set_jupyter_backend('trame')\n",
    "\n",
    "print(\"Pyvista input: \")\n",
    "print(result)\n",
    "result.plot(scalars=\"u\", show_edges=True, cmap='jet')\n",
    "#scalars=\"node_value\", categories=True"
   ]
  }
 ],
 "metadata": {
  "kernelspec": {
   "display_name": "Python 3 (ipykernel)",
   "language": "python",
   "name": "python3"
  },
  "language_info": {
   "codemirror_mode": {
    "name": "ipython",
    "version": 3
   },
   "file_extension": ".py",
   "mimetype": "text/x-python",
   "name": "python",
   "nbconvert_exporter": "python",
   "pygments_lexer": "ipython3",
   "version": "3.11.3"
  }
 },
 "nbformat": 4,
 "nbformat_minor": 2
}
