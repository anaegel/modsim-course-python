{
 "cells": [
  {
   "cell_type": "markdown",
   "metadata": {},
   "source": [
    "[<img src=\"../../header.svg\">](../index.ipynd)\n",
    "\n",
    "---\n",
    "\n",
    "# Drug Transport across a Virtual Skin Membrane:  Extended version\n",
    "[Previous Version](SkinDiffusion.ipybnd)"
   ]
  },
  {
   "cell_type": "markdown",
   "metadata": {},
   "source": [
    "## 1. Setup\n",
    "\n",
    "### Load existing modules "
   ]
  },
  {
   "cell_type": "code",
   "execution_count": 1,
   "metadata": {},
   "outputs": [],
   "source": [
    "import modsimtools as util\n",
    "\n",
    "import ug4py as ug4\n",
    "import pylimex as limex\n",
    "import pyconvectiondiffusion as cd\n",
    "import pysuperlu as slu"
   ]
  },
  {
   "cell_type": "markdown",
   "metadata": {},
   "source": [
    "### Create Domain"
   ]
  },
  {
   "cell_type": "code",
   "execution_count": 2,
   "metadata": {},
   "outputs": [],
   "source": [
    "requiredSubsets = {\"LIP\", \"COR\", \"BOTTOM_SC\", \"TOP_SC\"}\n",
    "gridName = \"skin2d-aniso.ugx\"\n",
    "numRefs = 2"
   ]
  },
  {
   "cell_type": "code",
   "execution_count": 3,
   "metadata": {},
   "outputs": [
    {
     "name": "stdout",
     "output_type": "stream",
     "text": [
      "Loading Domain {gridName}...\n",
      "Domain loaded.\n",
      "Refining ...\n",
      "Refining step {i} ...\n",
      "Refining step {i} ...\n",
      "Refining done\n"
     ]
    }
   ],
   "source": [
    "dom = util.CreateDomain(gridName, numRefs, requiredSubsets)"
   ]
  },
  {
   "cell_type": "markdown",
   "metadata": {},
   "source": [
    "### Create Approximation space"
   ]
  },
  {
   "cell_type": "code",
   "execution_count": 4,
   "metadata": {},
   "outputs": [
    {
     "name": "stdout",
     "output_type": "stream",
     "text": [
      "Approximation space:\n",
      "| ----------------------------------------------------------------------------------------- |\n",
      "|  Number of DoFs (All Procs)                                                               |\n",
      "|  Algebra: Block 1 (divide by 1 for #Index)                                                |\n",
      "|                                                                                           |\n",
      "|    GridLevel   |       Domain |       0: LIP |       1: COR | 2: BOTTOM_SC |    3: TOP_SC |\n",
      "| ----------------------------------------------------------------------------------------- |\n",
      "| (lev,    0)    |          680 |           32 |          608 |           20 |           20 |\n",
      "| (lev,    1)    |         2613 |          783 |         1752 |           39 |           39 |\n",
      "| (lev,    2)    |        10241 |         4367 |         5720 |           77 |           77 |\n",
      "| (lev,    0, g) |          680 |           32 |          608 |           20 |           20 |\n",
      "| (lev,    1, g) |         2613 |          783 |         1752 |           39 |           39 |\n",
      "| (lev,    2, g) |        10241 |         4367 |         5720 |           77 |           77 |\n",
      "| (surf, top)    |        10241 |         4367 |         5720 |           77 |           77 |\n",
      "| ----------------------------------------------------------------------------------------- |\n",
      "| For Legend and Options: print_statistic(\"legend\").                                        |\n",
      "| ----------------------------------------------------------------------------------------- |\n"
     ]
    }
   ],
   "source": [
    "approxSpaceDesc = dict(fct = \"u\", type = \"Lagrange\", order = 1)\n",
    "approxSpace = util.CreateApproximationSpace(dom, approxSpaceDesc)"
   ]
  },
  {
   "cell_type": "markdown",
   "metadata": {},
   "source": [
    "### Create spatial discretization"
   ]
  },
  {
   "cell_type": "code",
   "execution_count": 5,
   "metadata": {},
   "outputs": [],
   "source": [
    "# Define model parameter\n",
    "K={ \"COR\": 1e-3, \"LIP\": 1.0 }\n",
    "D={ \"COR\":  1.0, \"LIP\":1.0 }"
   ]
  },
  {
   "cell_type": "code",
   "execution_count": 6,
   "metadata": {},
   "outputs": [],
   "source": [
    "# Create element discretizations for lipids and corneocytes.\n",
    "elemDisc ={}\n",
    "elemDisc[\"COR\"] = util.CreateDiffusionElemDisc(\"u\", \"COR\", K[\"COR\"], K[\"COR\"]*D[\"COR\"], 0.0)\n",
    "elemDisc[\"LIP\"] = util.CreateDiffusionElemDisc(\"u\", \"LIP\", K[\"LIP\"], K[\"LIP\"]*D[\"LIP\"], 0.0)"
   ]
  },
  {
   "cell_type": "code",
   "execution_count": 7,
   "metadata": {},
   "outputs": [],
   "source": [
    "# Set Dirichlet boundary conditions.\n",
    "dirichletBnd = ug4.DirichletBoundary2dCPU1()\n",
    "dirichletBnd.add(1.0, \"u\", \"TOP_SC\")\n",
    "dirichletBnd.add(0.0, \"u\", \"BOTTOM_SC\")"
   ]
  },
  {
   "cell_type": "code",
   "execution_count": 8,
   "metadata": {},
   "outputs": [],
   "source": [
    "# Create the global spatial discretization object.\n",
    "domainDisc = ug4.DomainDiscretization2dCPU1(approxSpace)\n",
    "domainDisc.add(elemDisc[\"LIP\"])\n",
    "domainDisc.add(elemDisc[\"COR\"])\n",
    "domainDisc.add(dirichletBnd)"
   ]
  },
  {
   "cell_type": "markdown",
   "metadata": {},
   "source": [
    "## 2. Steady state problem\n",
    "Flux is computed from steady state. Since configuration of a multigrid solver is somewhat tricky, we use an LU decomposition here:"
   ]
  },
  {
   "cell_type": "code",
   "execution_count": 11,
   "metadata": {},
   "outputs": [],
   "source": [
    "A = ug4.AssembledLinearOperatorCPU1(domainDisc)\n",
    "u = ug4.GridFunction2dCPU1(approxSpace)\n",
    "b = ug4.GridFunction2dCPU1(approxSpace)\n",
    "\n",
    "ug4.Interpolate(0.0, u, \"u\")\n",
    "\n",
    "domainDisc.assemble_linear(A, b)\n",
    "domainDisc.adjust_solution(u)\n",
    "\n",
    "#lsolver = ug4.LUCPU1()\n",
    "lsolver =slu.SuperLUCPU1()\n",
    "\n",
    "lsolver.init(A, u)\n",
    "lsolver.apply(u, b)\n",
    "\n",
    "ug4.WriteGridFunctionToVTK(u, \"vtk/SkinSteadyState.vtk\")"
   ]
  },
  {
   "cell_type": "markdown",
   "metadata": {},
   "source": [
    "Compute $J_\\infty=J(t=\\infty)$ for\n",
    "$$ J(t)=\\frac{1}{|\\Gamma|}\\int_\\Gamma (-KD \\nabla u(t,x)) \\cdot \\vec n dA$$"
   ]
  },
  {
   "cell_type": "code",
   "execution_count": 10,
   "metadata": {},
   "outputs": [
    {
     "name": "stdout",
     "output_type": "stream",
     "text": [
      "Surface area [um^2]:\n",
      "30.100000000000016\n",
      "Surface fluxes [kg/s]:\n",
      "-0.0030822575671149172\n",
      "0.0030822575666958397\n"
     ]
    }
   ],
   "source": [
    "areaG=ug4.Integral(1.0, u, \"BOTTOM_SC\")\n",
    "print(\"Surface area [um^2]:\")\n",
    "print(areaG)\n",
    "\n",
    "surfaceFlux = {}\n",
    "surfaceFlux[\"BOT\"] = K[\"LIP\"]*D[\"LIP\"]*ug4.IntegrateNormalGradientOnManifold(u, \"u\", \"BOTTOM_SC\", \"LIP\")\n",
    "surfaceFlux[\"TOP\"] = K[\"LIP\"]*D[\"LIP\"]*ug4.IntegrateNormalGradientOnManifold(u, \"u\", \"TOP_SC\", \"LIP\")\n",
    "\n",
    "print(\"Surface fluxes [kg/s]:\")\n",
    "print(surfaceFlux[\"TOP\"])\n",
    "print(surfaceFlux[\"BOT\"])"
   ]
  },
  {
   "cell_type": "code",
   "execution_count": null,
   "metadata": {},
   "outputs": [],
   "source": [
    "print(\"Normalized Fluxes [kg / (mu^2 * s)]:\")\n",
    "print(surfaceFlux[\"TOP\"]/areaG)\n",
    "print(surfaceFlux[\"BOT\"]/areaG)\n"
   ]
  },
  {
   "cell_type": "code",
   "execution_count": null,
   "metadata": {},
   "outputs": [],
   "source": [
    "Jref = 1.0/17.6\n",
    "\n",
    "print(\"Relative Fluxes [1]:\")\n",
    "print(surfaceFlux[\"TOP\"]/areaG/Jref)\n",
    "print(surfaceFlux[\"BOT\"]/areaG/Jref)"
   ]
  },
  {
   "cell_type": "markdown",
   "metadata": {},
   "source": [
    "## 3. Transient problem"
   ]
  },
  {
   "cell_type": "markdown",
   "metadata": {},
   "source": [
    "### Define time integrator"
   ]
  },
  {
   "cell_type": "code",
   "execution_count": null,
   "metadata": {},
   "outputs": [],
   "source": [
    "# Create time discretization.\n",
    "timeDisc=ug4.ThetaTimeStepCPU1(domainDisc, 1.0) "
   ]
  },
  {
   "cell_type": "code",
   "execution_count": null,
   "metadata": {
    "scrolled": true
   },
   "outputs": [],
   "source": [
    "# Settings for time stepping.\n",
    "startTime = 0.0\n",
    "endTime = 5000.0\n",
    "dt=25.0\n",
    "dtMin=2.5"
   ]
  },
  {
   "cell_type": "code",
   "execution_count": null,
   "metadata": {},
   "outputs": [],
   "source": [
    "# Create time integrator.\n",
    "timeInt = limex.ConstStepLinearTimeIntegrator2dCPU1(timeDisc)\n",
    "timeInt.set_linear_solver(lsolver)\n",
    "timeInt.set_time_step(dt)"
   ]
  },
  {
   "cell_type": "markdown",
   "metadata": {},
   "source": [
    "###  Creating observers"
   ]
  },
  {
   "cell_type": "markdown",
   "metadata": {},
   "source": [
    "After each successful step, we would like to perform certain operations, e.g. for book-keeping. To that end, we would like to execute the following callback `MyPostProcess`. In this function, print the solution and compute\n",
    "$$\n",
    "m(t_k):= \\int_0^{t_k} J(s) \\, ds \\approx \\sum_{i=1}^k(t_{i}- t_{i-1}) \\frac{J(t_{i-1}) +J(t_i)}{2} \n",
    "$$\n",
    "using the trapezoid rule. Moreover, we also compute the lag time $\\tau$ from $m(t_k) = J_\\infty(t_k - \\tau)$."
   ]
  },
  {
   "cell_type": "code",
   "execution_count": null,
   "metadata": {},
   "outputs": [],
   "source": [
    "# auxiliary variables for book-keeping\n",
    "import numpy as np\n",
    "\n",
    "tPoints = np.array([0.0])\n",
    "mPoints = np.array([0.0])\n",
    "jPoints = np.array([0.0])\n",
    "\n",
    "def MyPostProcess(u, step, time, dt):\n",
    "    \n",
    "    global tPoints\n",
    "    global mPoints\n",
    "    global jPoints \n",
    "    \n",
    "    tOld = tPoints[-1]\n",
    "    mOld = mPoints[-1]\n",
    "    jOld = jPoints[-1]\n",
    "    \n",
    "    # 1) Compute fluxes.\n",
    "    gradFlux={}\n",
    "    gradFlux[\"BOT\"] = ug4.IntegrateNormalGradientOnManifold(u, \"u\", \"BOTTOM_SC\", \"LIP\")\n",
    "    gradFlux[\"TOP\"] = ug4.IntegrateNormalGradientOnManifold(u, \"u\", \"TOP_SC\", \"LIP\")\n",
    "  \n",
    "    jTOP = K[\"LIP\"]*D[\"LIP\"]*gradFlux[\"TOP\"]\n",
    "    jBOT = K[\"LIP\"]*D[\"LIP\"]*gradFlux[\"BOT\"]\n",
    "    print (\"flux_top (\\t\" + str(time) + \"\\t)=\\t\" + str(jTOP))\n",
    "    print (\"flux_bot (\\t\" + str(time) + \"\\t)=\\t\" + str(jBOT))\n",
    "  \n",
    "    # 2) Compute mass.\n",
    "    dt = time - tOld\n",
    "    mass = mOld + (time - tOld)*(jBOT + jOld)/2.0\n",
    "    print(\"mass_bot (\\t\"+ str(time) +\"\\t)=\\t\"+ str(mass))\n",
    "  \n",
    "    # 3) Compute lag time.\n",
    "    print(\"tlag=\"+ str(time - mass/jBOT) )\n",
    "  \n",
    "    # 4) Updates\n",
    "    tPoints = np.append(tPoints, time)\n",
    "    jPoints = np.append(jPoints, jBOT)\n",
    "    mPoints = np.append(mPoints, mass)\n"
   ]
  },
  {
   "cell_type": "code",
   "execution_count": null,
   "metadata": {},
   "outputs": [],
   "source": [
    "# We use this function to define a callback\n",
    "pyobserver= ug4.PythonCallbackObserver2dCPU1(MyPostProcess)"
   ]
  },
  {
   "cell_type": "markdown",
   "metadata": {},
   "source": [
    "A second observer is used for writing vtk files:"
   ]
  },
  {
   "cell_type": "code",
   "execution_count": null,
   "metadata": {},
   "outputs": [],
   "source": [
    "# Create callback observer for file I/O.\n",
    "def MyVTKCallback(usol, step, time, dt) :\n",
    "    ug4.WriteGridFunctionToVTK(usol, \"vtk/SkinDiffusion_\"+str(int(step)).zfill(5)+\".vtu\")\n",
    "    \n",
    "vtkobserver = ug4.PythonCallbackObserver2dCPU1(MyVTKCallback) "
   ]
  },
  {
   "cell_type": "code",
   "execution_count": null,
   "metadata": {},
   "outputs": [],
   "source": [
    "# Alternative:\n",
    "# vtk=ug4.VTKOutput2d()\n",
    "# vtkobserver=limex.VTKOutputObserver2dCPU1(\"../../SkinData.vtu\", vtk)"
   ]
  },
  {
   "cell_type": "markdown",
   "metadata": {},
   "source": [
    "The third  observer (for convenience, non-essential) indicates the progress of time stepping:"
   ]
  },
  {
   "cell_type": "code",
   "execution_count": null,
   "metadata": {},
   "outputs": [],
   "source": [
    "# Create progress widget.\n",
    "import ipywidgets as widgets\n",
    "from IPython.display import display\n",
    "\n",
    "wProgress=widgets.FloatProgress(value=startTime, min=startTime, max=endTime, \n",
    "                                description='Progress:', style={'bar_color': 'blue'})\n",
    "\n",
    "# Create callback and attach observer.\n",
    "def MyProgressCallback(u, step, time, dt):\n",
    "    wProgress.value=time\n",
    "    \n",
    "progressobserver = ug4.PythonCallbackObserver2dCPU1(MyProgressCallback)"
   ]
  },
  {
   "cell_type": "markdown",
   "metadata": {},
   "source": [
    "All observers must be attached to the time integrator:"
   ]
  },
  {
   "cell_type": "code",
   "execution_count": null,
   "metadata": {},
   "outputs": [],
   "source": [
    "# Attach observers.\n",
    "timeInt.attach_observer(pyobserver)\n",
    "timeInt.attach_observer(vtkobserver)\n",
    "timeInt.attach_observer(progressobserver) "
   ]
  },
  {
   "cell_type": "markdown",
   "metadata": {},
   "source": [
    "### Solve transient problem"
   ]
  },
  {
   "cell_type": "code",
   "execution_count": null,
   "metadata": {},
   "outputs": [],
   "source": [
    "# Set initial values.\n",
    "ug4.Interpolate(0.0, u, \"u\")"
   ]
  },
  {
   "cell_type": "code",
   "execution_count": null,
   "metadata": {},
   "outputs": [],
   "source": [
    "# Show progress bar.\n",
    "display(wProgress)"
   ]
  },
  {
   "cell_type": "code",
   "execution_count": null,
   "metadata": {},
   "outputs": [],
   "source": [
    "# Solve problem.\n",
    "try:\n",
    "    timeInt.apply(u, endTime, u, startTime)\n",
    "except Exception as inst:\n",
    "    print(inst)\n",
    "\n",
    "wProgress.style={'bar_color': 'red'}"
   ]
  },
  {
   "cell_type": "markdown",
   "metadata": {},
   "source": [
    "## 4. Visualization\n"
   ]
  },
  {
   "cell_type": "code",
   "execution_count": null,
   "metadata": {},
   "outputs": [],
   "source": [
    "import matplotlib.pyplot as pyplot\n",
    "pyplot.xlabel(\"time\")\n",
    "pyplot.ylabel(\"mass\")\n",
    "pyplot.plot(tPoints, mPoints)\n",
    "pyplot.show()"
   ]
  },
  {
   "cell_type": "code",
   "execution_count": null,
   "metadata": {},
   "outputs": [],
   "source": []
  },
  {
   "cell_type": "code",
   "execution_count": null,
   "metadata": {},
   "outputs": [],
   "source": []
  },
  {
   "cell_type": "code",
   "execution_count": null,
   "metadata": {},
   "outputs": [],
   "source": []
  }
 ],
 "metadata": {
  "kernelspec": {
   "display_name": "Python 3 (ipykernel)",
   "language": "python",
   "name": "python3"
  },
  "language_info": {
   "codemirror_mode": {
    "name": "ipython",
    "version": 3
   },
   "file_extension": ".py",
   "mimetype": "text/x-python",
   "name": "python",
   "nbconvert_exporter": "python",
   "pygments_lexer": "ipython3",
   "version": "3.11.3"
  }
 },
 "nbformat": 4,
 "nbformat_minor": 2
}
