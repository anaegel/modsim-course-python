{
 "cells": [
  {
   "cell_type": "markdown",
   "metadata": {},
   "source": [
    "[<img src=\"../header.svg\">](../index.ipynd)\n",
    "\n",
    "---\n",
    "\n",
    "# Drug Transport across a Virtual Skin Membrane:  Extended version\n",
    "[Previous Version](SkinDiffusion.ipybnd)"
   ]
  },
  {
   "cell_type": "markdown",
   "metadata": {},
   "source": [
    "## 1. Setup\n",
    "\n",
    "### Load existing modules "
   ]
  },
  {
   "cell_type": "code",
   "execution_count": 1,
   "metadata": {},
   "outputs": [
    {
     "name": "stdout",
     "output_type": "stream",
     "text": [
      "['/home/jovyan/content/skin', '/opt/conda/lib/python310.zip', '/opt/conda/lib/python3.10', '/opt/conda/lib/python3.10/lib-dynload', '', '/opt/conda/lib/python3.10/site-packages', '/home/jovyan/opt/ug4/lib/', '/home/jovyan/opt/ug4/bin/plugins/ug4py']\n"
     ]
    }
   ],
   "source": [
    "import modsimtools as util\n",
    "\n",
    "import ug4py as ug4\n",
    "import pylimex as limex\n",
    "import pyconvectiondiffusion as cd\n",
    "import pysuperlu as slu"
   ]
  },
  {
   "cell_type": "markdown",
   "metadata": {},
   "source": [
    "### Create Domain"
   ]
  },
  {
   "cell_type": "code",
   "execution_count": 2,
   "metadata": {},
   "outputs": [],
   "source": [
    "requiredSubsets = {\"LIP\", \"COR\", \"BOTTOM_SC\", \"TOP_SC\"}\n",
    "gridName = \"skin2d-aniso.ugx\"\n",
    "numRefs = 2"
   ]
  },
  {
   "cell_type": "code",
   "execution_count": 3,
   "metadata": {},
   "outputs": [
    {
     "name": "stdout",
     "output_type": "stream",
     "text": [
      "Loading Domain {gridName}...\n",
      "Domain loaded.\n",
      "Refining ...\n",
      "Refining step {i} ...\n",
      "Refining step {i} ...\n",
      "Refining done\n"
     ]
    }
   ],
   "source": [
    "dom = util.CreateDomain(gridName, numRefs, requiredSubsets)"
   ]
  },
  {
   "cell_type": "markdown",
   "metadata": {},
   "source": [
    "### Create Approximation space"
   ]
  },
  {
   "cell_type": "code",
   "execution_count": 4,
   "metadata": {},
   "outputs": [
    {
     "name": "stdout",
     "output_type": "stream",
     "text": [
      "Approximation space:\n",
      "| ----------------------------------------------------------------------------------------- |\n",
      "|  Number of DoFs (All Procs)                                                               |\n",
      "|  Algebra: Block 1 (divide by 1 for #Index)                                                |\n",
      "|                                                                                           |\n",
      "|    GridLevel   |       Domain |       0: LIP |       1: COR | 2: BOTTOM_SC |    3: TOP_SC |\n",
      "| ----------------------------------------------------------------------------------------- |\n",
      "| (lev,    0)    |          680 |           32 |          608 |           20 |           20 |\n",
      "| (lev,    1)    |         2613 |          783 |         1752 |           39 |           39 |\n",
      "| (lev,    2)    |        10241 |         4367 |         5720 |           77 |           77 |\n",
      "| (lev,    0, g) |          680 |           32 |          608 |           20 |           20 |\n",
      "| (lev,    1, g) |         2613 |          783 |         1752 |           39 |           39 |\n",
      "| (lev,    2, g) |        10241 |         4367 |         5720 |           77 |           77 |\n",
      "| (surf, top)    |        10241 |         4367 |         5720 |           77 |           77 |\n",
      "| ----------------------------------------------------------------------------------------- |\n",
      "| For Legend and Options: print_statistic(\"legend\").                                        |\n",
      "| ----------------------------------------------------------------------------------------- |\n"
     ]
    }
   ],
   "source": [
    "approxSpaceDesc = dict(fct = \"u\", type = \"Lagrange\", order = 1)\n",
    "approxSpace = util.CreateApproximationSpace(dom, approxSpaceDesc)"
   ]
  },
  {
   "cell_type": "markdown",
   "metadata": {},
   "source": [
    "### Create discretization\n"
   ]
  },
  {
   "cell_type": "code",
   "execution_count": 5,
   "metadata": {},
   "outputs": [],
   "source": [
    "# Define model parameter\n",
    "K={ \"COR\": 1e-3, \"LIP\": 1.0 }\n",
    "D={ \"COR\":  1.0, \"LIP\":1.0 }"
   ]
  },
  {
   "cell_type": "code",
   "execution_count": 6,
   "metadata": {},
   "outputs": [],
   "source": [
    "# Create element discretizations for lipids and corneocytes.\n",
    "elemDisc ={}\n",
    "elemDisc[\"COR\"] = util.CreateDiffusionElemDisc(\"u\", \"COR\", K[\"COR\"], K[\"COR\"]*D[\"COR\"], 0.0)\n",
    "elemDisc[\"LIP\"] = util.CreateDiffusionElemDisc(\"u\", \"LIP\", K[\"LIP\"], K[\"LIP\"]*D[\"LIP\"], 0.0)"
   ]
  },
  {
   "cell_type": "code",
   "execution_count": 7,
   "metadata": {},
   "outputs": [],
   "source": [
    "# Set Dirichlet boundary conditions.\n",
    "dirichletBnd = ug4.DirichletBoundary2dCPU1()\n",
    "dirichletBnd.add(1.0, \"u\", \"TOP_SC\")\n",
    "dirichletBnd.add(0.0, \"u\", \"BOTTOM_SC\")"
   ]
  },
  {
   "cell_type": "code",
   "execution_count": 8,
   "metadata": {},
   "outputs": [],
   "source": [
    "# Create the global discretization object.\n",
    "domainDisc = ug4.DomainDiscretization2dCPU1(approxSpace)\n",
    "domainDisc.add(elemDisc[\"LIP\"])\n",
    "domainDisc.add(elemDisc[\"COR\"])\n",
    "domainDisc.add(dirichletBnd)"
   ]
  },
  {
   "cell_type": "markdown",
   "metadata": {},
   "source": [
    "## 2. Steady state problem\n",
    "Flux is computed from steady state. Since configuration of a multigrid solver is somewhat tricky, we use an LU decomposition here:"
   ]
  },
  {
   "cell_type": "code",
   "execution_count": 9,
   "metadata": {},
   "outputs": [],
   "source": [
    "A = ug4.AssembledLinearOperatorCPU1(domainDisc)\n",
    "u = ug4.GridFunction2dCPU1(approxSpace)\n",
    "b = ug4.GridFunction2dCPU1(approxSpace)\n",
    "\n",
    "ug4.Interpolate(0.0, u, \"u\")\n",
    "\n",
    "domainDisc.assemble_linear(A, b)\n",
    "domainDisc.adjust_solution(u)\n",
    "\n",
    "#lsolver = ug4.LUCPU1()\n",
    "lsolver =slu.SuperLUCPU1()\n",
    "\n",
    "lsolver.init(A, u)\n",
    "lsolver.apply(u, b)\n",
    "\n",
    "ug4.WriteGridFunctionToVTK(u, \"SkinSteadyState.vtk\")"
   ]
  },
  {
   "cell_type": "markdown",
   "metadata": {},
   "source": [
    "Compute $J_\\infty=J(t=\\infty)$ for\n",
    "$$ J(t)=\\frac{1}{|\\Gamma|}\\int_\\Gamma (-KD \\nabla u(t,x)) \\cdot \\vec n dA$$"
   ]
  },
  {
   "cell_type": "code",
   "execution_count": 10,
   "metadata": {},
   "outputs": [
    {
     "name": "stdout",
     "output_type": "stream",
     "text": [
      "Surface area [um^2]:\n",
      "30.100000000000016\n",
      "Surface fluxes [kg/s]:\n",
      "-0.003082257567169157\n",
      "0.003082257566734965\n"
     ]
    }
   ],
   "source": [
    "areaG=ug4.Integral(1.0, u, \"BOTTOM_SC\")\n",
    "print(\"Surface area [um^2]:\")\n",
    "print(areaG)\n",
    "\n",
    "surfaceFlux = {}\n",
    "surfaceFlux[\"BOT\"] = K[\"LIP\"]*D[\"LIP\"]*ug4.IntegrateNormalGradientOnManifold(u, \"u\", \"BOTTOM_SC\", \"LIP\")\n",
    "surfaceFlux[\"TOP\"] = K[\"LIP\"]*D[\"LIP\"]*ug4.IntegrateNormalGradientOnManifold(u, \"u\", \"TOP_SC\", \"LIP\")\n",
    "\n",
    "print(\"Surface fluxes [kg/s]:\")\n",
    "print(surfaceFlux[\"TOP\"])\n",
    "print(surfaceFlux[\"BOT\"])"
   ]
  },
  {
   "cell_type": "code",
   "execution_count": 11,
   "metadata": {},
   "outputs": [
    {
     "name": "stdout",
     "output_type": "stream",
     "text": [
      "Normalized Fluxes [kg / (mu^2 * s)]:\n",
      "-0.00010240058362688224\n",
      "0.00010240058361245725\n"
     ]
    }
   ],
   "source": [
    "print(\"Normalized Fluxes [kg / (mu^2 * s)]:\")\n",
    "print(surfaceFlux[\"TOP\"]/areaG)\n",
    "print(surfaceFlux[\"BOT\"]/areaG)\n"
   ]
  },
  {
   "cell_type": "code",
   "execution_count": 12,
   "metadata": {},
   "outputs": [
    {
     "name": "stdout",
     "output_type": "stream",
     "text": [
      "Relative Fluxes [1]:\n",
      "-0.0018022502718331274\n",
      "0.0018022502715792476\n"
     ]
    }
   ],
   "source": [
    "Jref = 1.0/17.6\n",
    "\n",
    "print(\"Relative Fluxes [1]:\")\n",
    "print(surfaceFlux[\"TOP\"]/areaG/Jref)\n",
    "print(surfaceFlux[\"BOT\"]/areaG/Jref)"
   ]
  },
  {
   "cell_type": "markdown",
   "metadata": {},
   "source": [
    "## 3. Transient problem"
   ]
  },
  {
   "cell_type": "markdown",
   "metadata": {},
   "source": [
    "After each time-step, we execute a a callback function `MyPostProcess`. In this function, print the solution and compute\n",
    "$$\n",
    "m(t_k):= \\int_0^{t_k} J(s) \\, ds \\approx \\sum_{i=1}^k(t_{i}- t_{i-1}) \\frac{J(t_{i-1}) +J(t_i)}{2} \n",
    "$$\n",
    "using the trapezoid rule. Moreover, we also compute the lag time $\\tau$ from $m(t_k) = J_\\infty(t_k - \\tau)$.\n"
   ]
  },
  {
   "cell_type": "code",
   "execution_count": 13,
   "metadata": {},
   "outputs": [],
   "source": [
    "# auxiliary variables for book-keeping\n",
    "import numpy as np\n",
    "import os\n",
    "\n",
    "tPoints = np.array([0.0])\n",
    "mPoints = np.array([0.0])\n",
    "jPoints = np.array([0.0])\n",
    "\n",
    "def MyPostProcess(u, step, time, dt):\n",
    "    \n",
    "    global tPoints\n",
    "    global mPoints\n",
    "    global jPoints \n",
    "    \n",
    "    tOld = tPoints[-1]\n",
    "    mOld = mPoints[-1]\n",
    "    jOld = jPoints[-1]\n",
    "    \n",
    "    # 1) Compute fluxes.\n",
    "    gradFlux={}\n",
    "    gradFlux[\"BOT\"] = ug4.IntegrateNormalGradientOnManifold(u, \"u\", \"BOTTOM_SC\", \"LIP\")\n",
    "    gradFlux[\"TOP\"] = ug4.IntegrateNormalGradientOnManifold(u, \"u\", \"TOP_SC\", \"LIP\")\n",
    "  \n",
    "    jTOP = K[\"LIP\"]*D[\"LIP\"]*gradFlux[\"TOP\"]\n",
    "    jBOT = K[\"LIP\"]*D[\"LIP\"]*gradFlux[\"BOT\"]\n",
    "    print (\"flux_top (\\t\" + str(time) + \"\\t)=\\t\" + str(jTOP))\n",
    "    print (\"flux_bot (\\t\" + str(time) + \"\\t)=\\t\" + str(jBOT))\n",
    "  \n",
    "    # 2) Compute mass.\n",
    "    dt = time - tOld\n",
    "    mass = mOld + (time - tOld)*(jBOT + jOld)/2.0\n",
    "    print(\"mass_bot (\\t\"+ str(time) +\"\\t)=\\t\"+ str(mass))\n",
    "  \n",
    "    # 3) Compute lag time.\n",
    "    print(\"tlag=\"+ str(time - mass/jBOT) )\n",
    "  \n",
    "    # 4) Updates\n",
    "    tPoints = np.append(tPoints, time)\n",
    "    jPoints = np.append(jPoints, jBOT)\n",
    "    mPoints = np.append(mPoints, mass)\n",
    "    \n",
    "    os.system('df -k /')\n",
    "    return True\n",
    "    \n"
   ]
  },
  {
   "cell_type": "code",
   "execution_count": 14,
   "metadata": {},
   "outputs": [],
   "source": [
    "pyobserver= ug4.PythonCallbackObserver2dCPU1(MyPostProcess)"
   ]
  },
  {
   "cell_type": "markdown",
   "metadata": {},
   "source": [
    "Additionally, we define a callback for vtk files."
   ]
  },
  {
   "cell_type": "code",
   "execution_count": 15,
   "metadata": {},
   "outputs": [],
   "source": [
    "# Callback for file I/O.\n",
    "vtk=ug4.VTKOutput2d()\n",
    "vtkobserver=limex.VTKOutputObserver2dCPU1(\"../../SkinData.vtu\", vtk)"
   ]
  },
  {
   "cell_type": "markdown",
   "metadata": {},
   "source": [
    "### Define time integrator"
   ]
  },
  {
   "cell_type": "code",
   "execution_count": 16,
   "metadata": {},
   "outputs": [],
   "source": [
    "# Create time discretization.\n",
    "timeDisc=ug4.ThetaTimeStepCPU1(domainDisc, 1.0) "
   ]
  },
  {
   "cell_type": "code",
   "execution_count": 17,
   "metadata": {
    "scrolled": true
   },
   "outputs": [],
   "source": [
    "# Settings for time stepping.\n",
    "startTime = 0.0\n",
    "endTime = 5000.0\n",
    "dt=25.0\n",
    "dtMin=2.5\n",
    "\n",
    "ug4.Interpolate(0.0, u, \"u\")"
   ]
  },
  {
   "cell_type": "code",
   "execution_count": 18,
   "metadata": {},
   "outputs": [],
   "source": [
    "# Create time integrator.\n",
    "timeInt = limex.ConstStepLinearTimeIntegrator2dCPU1(timeDisc)\n",
    "timeInt.set_linear_solver(lsolver)\n",
    "timeInt.set_time_step(dt)"
   ]
  },
  {
   "cell_type": "code",
   "execution_count": 19,
   "metadata": {},
   "outputs": [],
   "source": [
    "# Attach observers.\n",
    "timeInt.attach_observer(vtkobserver)\n",
    "timeInt.attach_observer(pyobserver)"
   ]
  },
  {
   "cell_type": "code",
   "execution_count": 20,
   "metadata": {},
   "outputs": [
    {
     "data": {
      "application/vnd.jupyter.widget-view+json": {
       "model_id": "9897c7b5ced149e99621d14afa059d84",
       "version_major": 2,
       "version_minor": 0
      },
      "text/plain": [
       "FloatProgress(value=0.0, description='Progress:', max=5000.0, style=ProgressStyle(bar_color='blue'))"
      ]
     },
     "metadata": {},
     "output_type": "display_data"
    }
   ],
   "source": [
    "# Create progress widget.\n",
    "import ipywidgets as widgets\n",
    "from IPython.display import display\n",
    "\n",
    "wProgress=widgets.FloatProgress(value=startTime, min=startTime, max=endTime, \n",
    "                                description='Progress:', style={'bar_color': 'blue'})\n",
    "display(wProgress)\n",
    "\n",
    "# Create callback and attach observer.\n",
    "def MyProgress(u, step, time, dt):\n",
    "    wProgress.value=time\n",
    "    \n",
    "timeInt.attach_observer(ug4.PythonCallbackObserver2dCPU1(MyProgress)) "
   ]
  },
  {
   "cell_type": "markdown",
   "metadata": {},
   "source": [
    "### Solve transient problem"
   ]
  },
  {
   "cell_type": "code",
   "execution_count": null,
   "metadata": {},
   "outputs": [
    {
     "name": "stdout",
     "output_type": "stream",
     "text": [
      "after COLAMD_MAIN info 1\n",
      "+++ Integrating: [\t0\t, \t5000\t] with dt=\t25(200 iters)\n",
      "+++ Const timestep +++1(t=0, dt=25)\n",
      "+++ Assemble (t=0, dt=25)\n",
      "flux_top (\t25.0\t)=\t-0.10430773903721774\n",
      "flux_bot (\t25.0\t)=\t3.200296786268296e-11\n",
      "mass_bot (\t25.0\t)=\t4.00037098283537e-10\n",
      "tlag=12.5\n",
      "Filesystem     1K-blocks     Used Available Use% Mounted on\n",
      "overlay         61202244 46472100  11588820  81% /\n",
      "after COLAMD_MAIN info 1\n",
      "+++ Const timestep +++2(t=25, dt=25)\n",
      "flux_top (\t50.0\t)=\t-0.033783767504472394\n",
      "flux_bot (\t50.0\t)=\t3.0121562412904636e-10\n",
      "mass_bot (\t50.0\t)=\t4.5652694981801536e-09\n",
      "tlag=34.843848949135825\n",
      "Filesystem     1K-blocks     Used Available Use% Mounted on\n",
      "overlay         61202244 46472592  11588328  81% /\n",
      "+++ Const timestep +++3(t=50, dt=25)\n",
      "flux_top (\t75.0\t)=\t-0.027023337678608476\n",
      "flux_bot (\t75.0\t)=\t1.5354299759722624e-09\n",
      "mass_bot (\t75.0\t)=\t2.7523339499446512e-08\n",
      "tlag=57.07450686116882\n",
      "Filesystem     1K-blocks     Used Available Use% Mounted on\n",
      "overlay         61202244 46473084  11587836  81% /\n",
      "+++ Const timestep +++4(t=75, dt=25)\n",
      "flux_top (\t100.0\t)=\t-0.023147365061255525\n",
      "flux_bot (\t100.0\t)=\t5.619393761226437e-09\n",
      "mass_bot (\t100.0\t)=\t1.1695863621443027e-07\n",
      "tlag=79.18660959097767\n",
      "Filesystem     1K-blocks     Used Available Use% Mounted on\n",
      "overlay         61202244 46473576  11587344  81% /\n",
      "+++ Const timestep +++5(t=100, dt=25)\n",
      "flux_top (\t125.0\t)=\t-0.020561343633576545\n",
      "flux_bot (\t125.0\t)=\t1.6530278293085757e-08\n",
      "mass_bot (\t125.0\t)=\t3.9382953689333265e-07\n",
      "tlag=101.17526275658271\n",
      "Filesystem     1K-blocks     Used Available Use% Mounted on\n",
      "overlay         61202244 46474068  11586852  81% /\n",
      "+++ Const timestep +++6(t=125, dt=25)\n",
      "flux_top (\t150.0\t)=\t-0.018676079039860603\n",
      "flux_bot (\t150.0\t)=\t4.151406799077969e-08\n",
      "mass_bot (\t150.0\t)=\t1.1193838654416507e-06\n",
      "tlag=123.03603526182337\n",
      "Filesystem     1K-blocks     Used Available Use% Mounted on\n",
      "overlay         61202244 46474560  11586360  81% /\n",
      "+++ Const timestep +++7(t=150, dt=25)\n",
      "flux_top (\t175.0\t)=\t-0.017221420032570725\n",
      "flux_bot (\t175.0\t)=\t9.237685929267176e-08\n",
      "mass_bot (\t175.0\t)=\t2.7930204564847937e-06\n",
      "tlag=144.76493379542333\n",
      "Filesystem     1K-blocks     Used Available Use% Mounted on\n",
      "overlay         61202244 46475052  11585868  81% /\n",
      "+++ Const timestep +++8(t=175, dt=25)\n"
     ]
    }
   ],
   "source": [
    "# Solve problem.\n",
    "try:\n",
    "    timeInt.apply(u, endTime, u, startTime)\n",
    "except Exception as inst:\n",
    "    print(inst)\n",
    "\n",
    "wProgress.style={'bar_color': 'red'}"
   ]
  },
  {
   "cell_type": "markdown",
   "metadata": {},
   "source": [
    "## 4. Visualization\n"
   ]
  },
  {
   "cell_type": "code",
   "execution_count": null,
   "metadata": {},
   "outputs": [],
   "source": [
    "import matplotlib.pyplot as pyplot\n",
    "pyplot.xlabel(\"time\")\n",
    "pyplot.ylabel(\"mass\")\n",
    "pyplot.plot(tPoints, mPoints)\n",
    "pyplot.show()"
   ]
  },
  {
   "cell_type": "code",
   "execution_count": null,
   "metadata": {},
   "outputs": [],
   "source": []
  },
  {
   "cell_type": "code",
   "execution_count": null,
   "metadata": {},
   "outputs": [],
   "source": []
  },
  {
   "cell_type": "code",
   "execution_count": null,
   "metadata": {},
   "outputs": [],
   "source": []
  }
 ],
 "metadata": {
  "kernelspec": {
   "display_name": "Python 3 (ipykernel)",
   "language": "python",
   "name": "python3"
  },
  "language_info": {
   "codemirror_mode": {
    "name": "ipython",
    "version": 3
   },
   "file_extension": ".py",
   "mimetype": "text/x-python",
   "name": "python",
   "nbconvert_exporter": "python",
   "pygments_lexer": "ipython3",
   "version": "3.10.11"
  }
 },
 "nbformat": 4,
 "nbformat_minor": 2
}
